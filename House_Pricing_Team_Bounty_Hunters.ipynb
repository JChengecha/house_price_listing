{
  "nbformat": 4,
  "nbformat_minor": 0,
  "metadata": {
    "colab": {
      "name": "House_Pricing_Team_Bounty_Hunters.ipynb",
      "provenance": [],
      "collapsed_sections": [],
      "toc_visible": true,
      "include_colab_link": true
    },
    "kernelspec": {
      "display_name": "Python 3",
      "name": "python3"
    },
    "language_info": {
      "name": "python"
    }
  },
  "cells": [
    {
      "cell_type": "markdown",
      "metadata": {
        "id": "view-in-github",
        "colab_type": "text"
      },
      "source": [
        "<a href=\"https://colab.research.google.com/github/JChengecha/house_price_listing/blob/main/House_Pricing_Team_Bounty_Hunters.ipynb\" target=\"_parent\"><img src=\"https://colab.research.google.com/assets/colab-badge.svg\" alt=\"Open In Colab\"/></a>"
      ]
    },
    {
      "cell_type": "markdown",
      "metadata": {
        "id": "TLlrVkvw532J"
      },
      "source": [
        "# 1.0 Exploratory Data Analysis and documentation"
      ]
    },
    {
      "cell_type": "markdown",
      "metadata": {
        "id": "MouXSqWU58WZ"
      },
      "source": [
        "## a. Specifying the data analytic question"
      ]
    },
    {
      "cell_type": "markdown",
      "metadata": {
        "id": "4Rxeqf5X6K-V"
      },
      "source": [
        "\n",
        "Recent studies have indicated that based on location, there is a disparity in house prices. The purpose of the study will be to find a commendable house location based on a person’s budget and come up with a hypothesis on the house cost within the most common regions in the USA.\n",
        "\n",
        "Ho: There is no significant difference in the average price of an apartment and a house \n",
        "\n",
        "H1:The average price of an apartment is significatnly lower than that of a house (claim)\n"
      ]
    },
    {
      "cell_type": "markdown",
      "metadata": {
        "id": "EbeWfWzZ6sQB"
      },
      "source": [
        "## b. Defining the metrics for success"
      ]
    },
    {
      "cell_type": "markdown",
      "metadata": {
        "id": "KIhoky-G62j5"
      },
      "source": [
        "\n",
        "\n",
        "*  Univariate analysis\n",
        "*  Bivariate analysis\n",
        "*  Hypothesis testing\n",
        "*  Tableau Visualization\n",
        "\n",
        "\n",
        "\n",
        "\n"
      ]
    },
    {
      "cell_type": "markdown",
      "metadata": {
        "id": "ZnuIzvXj7o6n"
      },
      "source": [
        "## c. Understanding the context\n"
      ]
    },
    {
      "cell_type": "markdown",
      "metadata": {
        "id": "JDnGqhBg9sp1"
      },
      "source": [
        "We will perform a background search to understand the data including studying the data set attributes for proper planning of the analysis."
      ]
    },
    {
      "cell_type": "markdown",
      "metadata": {
        "id": "Wh6xeO71-VQX"
      },
      "source": [
        "## d. Recording the experimental design"
      ]
    },
    {
      "cell_type": "markdown",
      "metadata": {
        "id": "6TFHy-W2-o1T"
      },
      "source": [
        "The EDA process will involve:\n",
        "\n",
        "*   data understanding\n",
        "*   data cleaning (anomalies, missing values, outliers)\n",
        "*   data analysis(univariate,bivariate)\n",
        "*   hypothesis testing and reporting\n",
        "\n",
        "Data Visualization will be done using tableau accompanied by a data report in a google doc format.\n",
        "\n",
        "\n",
        "\n"
      ]
    },
    {
      "cell_type": "markdown",
      "metadata": {
        "id": "XiJd0VCeObry"
      },
      "source": [
        "## e. Data relevance."
      ]
    },
    {
      "cell_type": "markdown",
      "metadata": {
        "id": "Hcur5RH7Ok2i"
      },
      "source": [
        "Cross-check whether is relevant to the topic of study and adequate enough to answer the research question."
      ]
    },
    {
      "cell_type": "markdown",
      "metadata": {
        "id": "crZuKb2opiqO"
      },
      "source": [
        "# 2.0 Importing libraries to be used"
      ]
    },
    {
      "cell_type": "code",
      "metadata": {
        "id": "KPExlaZlfeDT"
      },
      "source": [
        "import pandas as pd\n",
        "import numpy as np\n",
        "import seaborn as sns\n",
        "import matplotlib.pyplot as plt\n",
        "from scipy import stats"
      ],
      "execution_count": null,
      "outputs": []
    },
    {
      "cell_type": "markdown",
      "metadata": {
        "id": "BzHg8GBlpo_J"
      },
      "source": [
        "# 3.0 Loading the data and previewing\n"
      ]
    },
    {
      "cell_type": "code",
      "metadata": {
        "colab": {
          "base_uri": "https://localhost:8080/"
        },
        "id": "PoCtVj6jIVsw",
        "outputId": "9c0eaa7e-d058-4869-a12d-58b3dcbe3a42"
      },
      "source": [
        "from google.colab import drive\n",
        "drive.mount(\"/content/drive\")"
      ],
      "execution_count": null,
      "outputs": [
        {
          "output_type": "stream",
          "text": [
            "Drive already mounted at /content/drive; to attempt to forcibly remount, call drive.mount(\"/content/drive\", force_remount=True).\n"
          ],
          "name": "stdout"
        }
      ]
    },
    {
      "cell_type": "code",
      "metadata": {
        "id": "pc1eqP6khy3j"
      },
      "source": [
        "df = pd.read_csv('/content/drive/MyDrive/housing.csv')"
      ],
      "execution_count": null,
      "outputs": []
    },
    {
      "cell_type": "code",
      "metadata": {
        "colab": {
          "base_uri": "https://localhost:8080/"
        },
        "id": "aDiKVGhvogUC",
        "outputId": "420da80a-1339-4f73-d08b-e17ad3efee09"
      },
      "source": [
        "df.info()"
      ],
      "execution_count": null,
      "outputs": [
        {
          "output_type": "stream",
          "text": [
            "<class 'pandas.core.frame.DataFrame'>\n",
            "RangeIndex: 384977 entries, 0 to 384976\n",
            "Data columns (total 22 columns):\n",
            " #   Column                   Non-Null Count   Dtype  \n",
            "---  ------                   --------------   -----  \n",
            " 0   id                       384977 non-null  int64  \n",
            " 1   url                      384977 non-null  object \n",
            " 2   region                   384977 non-null  object \n",
            " 3   region_url               384977 non-null  object \n",
            " 4   price                    384977 non-null  int64  \n",
            " 5   type                     384977 non-null  object \n",
            " 6   sqfeet                   384977 non-null  int64  \n",
            " 7   beds                     384977 non-null  int64  \n",
            " 8   baths                    384977 non-null  float64\n",
            " 9   cats_allowed             384977 non-null  int64  \n",
            " 10  dogs_allowed             384977 non-null  int64  \n",
            " 11  smoking_allowed          384977 non-null  int64  \n",
            " 12  wheelchair_access        384977 non-null  int64  \n",
            " 13  electric_vehicle_charge  384977 non-null  int64  \n",
            " 14  comes_furnished          384977 non-null  int64  \n",
            " 15  laundry_options          305951 non-null  object \n",
            " 16  parking_options          244290 non-null  object \n",
            " 17  image_url                384977 non-null  object \n",
            " 18  description              384975 non-null  object \n",
            " 19  lat                      383059 non-null  float64\n",
            " 20  long                     383059 non-null  float64\n",
            " 21  state                    384977 non-null  object \n",
            "dtypes: float64(3), int64(10), object(9)\n",
            "memory usage: 64.6+ MB\n"
          ],
          "name": "stdout"
        }
      ]
    },
    {
      "cell_type": "markdown",
      "metadata": {
        "id": "pnZwtlnMp7ew"
      },
      "source": [
        "## 3.1 Data cleaning"
      ]
    },
    {
      "cell_type": "code",
      "metadata": {
        "id": "HtGuP3-KjzaW"
      },
      "source": [
        "df.drop(columns=['url','region_url','image_url','description'],axis=1,inplace=True)"
      ],
      "execution_count": null,
      "outputs": []
    },
    {
      "cell_type": "markdown",
      "metadata": {
        "id": "EolvWZYEx6j-"
      },
      "source": [
        "## a. Dropping columns\n",
        "The columns dropped were:\n",
        "* url\n",
        "* region_url\n",
        "* image_url\n",
        "* description"
      ]
    },
    {
      "cell_type": "markdown",
      "metadata": {
        "id": "ITgkbwT4FETa"
      },
      "source": [
        "## b.Renaming the columns\n"
      ]
    },
    {
      "cell_type": "code",
      "metadata": {
        "id": "yYRvAqKSoj3c"
      },
      "source": [
        "df.rename(columns={\"beds\":\"number_of_bedrooms\", \"baths\":\"number_of_bathrooms\",\"lat\":\"latitude\",\"long\":\"longitude\"},inplace=True)"
      ],
      "execution_count": null,
      "outputs": []
    },
    {
      "cell_type": "code",
      "metadata": {
        "colab": {
          "base_uri": "https://localhost:8080/"
        },
        "id": "OjUDsJ-QrGd6",
        "outputId": "8ca5e929-2ec8-48e7-9f15-fa0156fa0d92"
      },
      "source": [
        "df.columns"
      ],
      "execution_count": null,
      "outputs": [
        {
          "output_type": "execute_result",
          "data": {
            "text/plain": [
              "Index(['id', 'region', 'price', 'type', 'sqfeet', 'number_of_bedrooms',\n",
              "       'number_of_bathrooms', 'cats_allowed', 'dogs_allowed',\n",
              "       'smoking_allowed', 'wheelchair_access', 'electric_vehicle_charge',\n",
              "       'comes_furnished', 'laundry_options', 'parking_options', 'latitude',\n",
              "       'longitude', 'state'],\n",
              "      dtype='object')"
            ]
          },
          "metadata": {
            "tags": []
          },
          "execution_count": 298
        }
      ]
    },
    {
      "cell_type": "markdown",
      "metadata": {
        "id": "NFRYh4jxFKuP"
      },
      "source": [
        "Converting the column for the number of bathrooms to data type int since it was float"
      ]
    },
    {
      "cell_type": "code",
      "metadata": {
        "id": "kE1yEdQCHeVr"
      },
      "source": [
        "df['number_of_bathrooms']=np.int64(df['number_of_bathrooms'])"
      ],
      "execution_count": null,
      "outputs": []
    },
    {
      "cell_type": "markdown",
      "metadata": {
        "id": "LQHYFR7aFZ97"
      },
      "source": [
        "## c.checking for null values and dealing with them"
      ]
    },
    {
      "cell_type": "code",
      "metadata": {
        "colab": {
          "base_uri": "https://localhost:8080/"
        },
        "id": "G2Yv8ka7pI7k",
        "outputId": "55c9d3cd-f3fe-4ca1-c1a1-a1bdce173f2f"
      },
      "source": [
        "df.isnull().sum()"
      ],
      "execution_count": null,
      "outputs": [
        {
          "output_type": "execute_result",
          "data": {
            "text/plain": [
              "id                              0\n",
              "region                          0\n",
              "price                           0\n",
              "type                            0\n",
              "sqfeet                          0\n",
              "number_of_bedrooms              0\n",
              "number_of_bathrooms             0\n",
              "cats_allowed                    0\n",
              "dogs_allowed                    0\n",
              "smoking_allowed                 0\n",
              "wheelchair_access               0\n",
              "electric_vehicle_charge         0\n",
              "comes_furnished                 0\n",
              "laundry_options             79026\n",
              "parking_options            140687\n",
              "latitude                     1918\n",
              "longitude                    1918\n",
              "state                           0\n",
              "dtype: int64"
            ]
          },
          "metadata": {
            "tags": []
          },
          "execution_count": 300
        }
      ]
    },
    {
      "cell_type": "code",
      "metadata": {
        "id": "scwL7eToFFLW"
      },
      "source": [
        "df.dropna(inplace=True)"
      ],
      "execution_count": null,
      "outputs": []
    },
    {
      "cell_type": "markdown",
      "metadata": {
        "id": "7rXQ21sgJYZZ"
      },
      "source": [
        "* we decided dropping the null values because filling in the null values would not accrue accurate results/analysis"
      ]
    },
    {
      "cell_type": "code",
      "metadata": {
        "colab": {
          "base_uri": "https://localhost:8080/"
        },
        "id": "gN9ixNJHLo9P",
        "outputId": "06b30677-54a7-4d99-bcc7-ce7d06d50348"
      },
      "source": [
        "df.isnull().sum()"
      ],
      "execution_count": null,
      "outputs": [
        {
          "output_type": "execute_result",
          "data": {
            "text/plain": [
              "id                         0\n",
              "region                     0\n",
              "price                      0\n",
              "type                       0\n",
              "sqfeet                     0\n",
              "number_of_bedrooms         0\n",
              "number_of_bathrooms        0\n",
              "cats_allowed               0\n",
              "dogs_allowed               0\n",
              "smoking_allowed            0\n",
              "wheelchair_access          0\n",
              "electric_vehicle_charge    0\n",
              "comes_furnished            0\n",
              "laundry_options            0\n",
              "parking_options            0\n",
              "latitude                   0\n",
              "longitude                  0\n",
              "state                      0\n",
              "dtype: int64"
            ]
          },
          "metadata": {
            "tags": []
          },
          "execution_count": 302
        }
      ]
    },
    {
      "cell_type": "markdown",
      "metadata": {
        "id": "Dl6ZoLUqFgxO"
      },
      "source": [
        "## d.checking for duplicates"
      ]
    },
    {
      "cell_type": "code",
      "metadata": {
        "colab": {
          "base_uri": "https://localhost:8080/"
        },
        "id": "yyOtq1sapL7_",
        "outputId": "f91e5e2d-6269-428b-ec5f-6c98d94a8e79"
      },
      "source": [
        "df.duplicated().sum()"
      ],
      "execution_count": null,
      "outputs": [
        {
          "output_type": "execute_result",
          "data": {
            "text/plain": [
              "0"
            ]
          },
          "metadata": {
            "tags": []
          },
          "execution_count": 303
        }
      ]
    },
    {
      "cell_type": "markdown",
      "metadata": {
        "id": "iu8eu0h9Flu4"
      },
      "source": [
        "the state column had abbreviations, therefore to easily identify, we had to change each abbreviations to their full names "
      ]
    },
    {
      "cell_type": "code",
      "metadata": {
        "id": "bSf4EvpiN6T3"
      },
      "source": [
        "df.replace({'state': {'ca':'California', 'co':'Colorado', 'ct':'Connecticut', 'fl':'Florida', 'de':'Delaware', 'ga':'Georgia', 'hi':'Hawaii', 'id':'Idaho', 'il':'Illinois', 'in':'Indiana',\n",
        "       'ia':'Iowa', 'ks':'Kansas', 'ky':'Kentucky', 'la':'Louisiana', 'me':'Maine', 'md':'Maryland', 'ma':'Massachusetts', 'mi':'Michigan', 'mn': 'Minnesota', 'ms':'Mississippi', 'nc':'North Carolina',\n",
        "       'mo': 'Missouri', 'mt':'Montana', 'ne':'Nebraska', 'nv':'Nevada', 'nj':'New Jersey', 'nm':'New Mexico', 'ny':'New York', 'nh':'New Hampshire', 'oh':'Ohio', 'nd':'North Dakota', 'ok':'Oklahoma',\n",
        "       'or':'Oregon', 'pa':'Pennsylvania', 'ri':'Rhode Island', 'sc':'South Carolina', 'tn':'Tennessee', 'sd':'South Dakota', 'tx':'Texas', 'ut':'Utah', 'va':'Virginia', 'vt':'Vermont', 'wa':'Washington',\n",
        "       'wv':'West Virginia', 'wi':'Wisconsin', 'wy':'Wyoming', 'al':'Alabama', 'ak':'Alaska', 'az':'Arizona', 'ar':'Arkansas','dc':'District of Columbia'}},inplace=True)\n"
      ],
      "execution_count": null,
      "outputs": []
    },
    {
      "cell_type": "code",
      "metadata": {
        "colab": {
          "base_uri": "https://localhost:8080/"
        },
        "id": "mseNiHQVHDy1",
        "outputId": "34111cbb-e8ad-4032-f425-8db085744890"
      },
      "source": [
        "df['state'].unique()"
      ],
      "execution_count": null,
      "outputs": [
        {
          "output_type": "execute_result",
          "data": {
            "text/plain": [
              "array(['California', 'Colorado', 'Connecticut', 'District of Columbia',\n",
              "       'Florida', 'Delaware', 'Georgia', 'Hawaii', 'Idaho', 'Illinois',\n",
              "       'Indiana', 'Iowa', 'Kansas', 'Kentucky', 'Louisiana', 'Maine',\n",
              "       'Maryland', 'Massachusetts', 'Michigan', 'Minnesota',\n",
              "       'Mississippi', 'North Carolina', 'Missouri', 'Montana', 'Nebraska',\n",
              "       'Nevada', 'New Jersey', 'New Mexico', 'New York', 'New Hampshire',\n",
              "       'Ohio', 'North Dakota', 'Oklahoma', 'Oregon', 'Pennsylvania',\n",
              "       'Rhode Island', 'South Carolina', 'Tennessee', 'South Dakota',\n",
              "       'Texas', 'Utah', 'Virginia', 'Vermont', 'Washington',\n",
              "       'West Virginia', 'Wisconsin', 'Wyoming', 'Alabama', 'Alaska',\n",
              "       'Arizona', 'Arkansas'], dtype=object)"
            ]
          },
          "metadata": {
            "tags": []
          },
          "execution_count": 305
        }
      ]
    },
    {
      "cell_type": "code",
      "metadata": {
        "colab": {
          "base_uri": "https://localhost:8080/",
          "height": 305
        },
        "id": "BNt6KF_Tw314",
        "outputId": "5c1af92b-f3b9-4902-a422-b4dfdfdc1a5d"
      },
      "source": [
        "df.head()"
      ],
      "execution_count": null,
      "outputs": [
        {
          "output_type": "execute_result",
          "data": {
            "text/html": [
              "<div>\n",
              "<style scoped>\n",
              "    .dataframe tbody tr th:only-of-type {\n",
              "        vertical-align: middle;\n",
              "    }\n",
              "\n",
              "    .dataframe tbody tr th {\n",
              "        vertical-align: top;\n",
              "    }\n",
              "\n",
              "    .dataframe thead th {\n",
              "        text-align: right;\n",
              "    }\n",
              "</style>\n",
              "<table border=\"1\" class=\"dataframe\">\n",
              "  <thead>\n",
              "    <tr style=\"text-align: right;\">\n",
              "      <th></th>\n",
              "      <th>id</th>\n",
              "      <th>region</th>\n",
              "      <th>price</th>\n",
              "      <th>type</th>\n",
              "      <th>sqfeet</th>\n",
              "      <th>number_of_bedrooms</th>\n",
              "      <th>number_of_bathrooms</th>\n",
              "      <th>cats_allowed</th>\n",
              "      <th>dogs_allowed</th>\n",
              "      <th>smoking_allowed</th>\n",
              "      <th>wheelchair_access</th>\n",
              "      <th>electric_vehicle_charge</th>\n",
              "      <th>comes_furnished</th>\n",
              "      <th>laundry_options</th>\n",
              "      <th>parking_options</th>\n",
              "      <th>latitude</th>\n",
              "      <th>longitude</th>\n",
              "      <th>state</th>\n",
              "    </tr>\n",
              "  </thead>\n",
              "  <tbody>\n",
              "    <tr>\n",
              "      <th>0</th>\n",
              "      <td>7049044568</td>\n",
              "      <td>reno / tahoe</td>\n",
              "      <td>1148</td>\n",
              "      <td>apartment</td>\n",
              "      <td>1078</td>\n",
              "      <td>3</td>\n",
              "      <td>2</td>\n",
              "      <td>1</td>\n",
              "      <td>1</td>\n",
              "      <td>0</td>\n",
              "      <td>0</td>\n",
              "      <td>0</td>\n",
              "      <td>0</td>\n",
              "      <td>w/d in unit</td>\n",
              "      <td>carport</td>\n",
              "      <td>39.5483</td>\n",
              "      <td>-119.796</td>\n",
              "      <td>California</td>\n",
              "    </tr>\n",
              "    <tr>\n",
              "      <th>1</th>\n",
              "      <td>7049047186</td>\n",
              "      <td>reno / tahoe</td>\n",
              "      <td>1200</td>\n",
              "      <td>condo</td>\n",
              "      <td>1001</td>\n",
              "      <td>2</td>\n",
              "      <td>2</td>\n",
              "      <td>0</td>\n",
              "      <td>0</td>\n",
              "      <td>0</td>\n",
              "      <td>0</td>\n",
              "      <td>0</td>\n",
              "      <td>0</td>\n",
              "      <td>w/d hookups</td>\n",
              "      <td>carport</td>\n",
              "      <td>39.5026</td>\n",
              "      <td>-119.789</td>\n",
              "      <td>California</td>\n",
              "    </tr>\n",
              "    <tr>\n",
              "      <th>2</th>\n",
              "      <td>7043634882</td>\n",
              "      <td>reno / tahoe</td>\n",
              "      <td>1813</td>\n",
              "      <td>apartment</td>\n",
              "      <td>1683</td>\n",
              "      <td>2</td>\n",
              "      <td>2</td>\n",
              "      <td>1</td>\n",
              "      <td>1</td>\n",
              "      <td>1</td>\n",
              "      <td>0</td>\n",
              "      <td>0</td>\n",
              "      <td>0</td>\n",
              "      <td>w/d in unit</td>\n",
              "      <td>attached garage</td>\n",
              "      <td>39.6269</td>\n",
              "      <td>-119.708</td>\n",
              "      <td>California</td>\n",
              "    </tr>\n",
              "    <tr>\n",
              "      <th>3</th>\n",
              "      <td>7049045324</td>\n",
              "      <td>reno / tahoe</td>\n",
              "      <td>1095</td>\n",
              "      <td>apartment</td>\n",
              "      <td>708</td>\n",
              "      <td>1</td>\n",
              "      <td>1</td>\n",
              "      <td>1</td>\n",
              "      <td>1</td>\n",
              "      <td>1</td>\n",
              "      <td>0</td>\n",
              "      <td>0</td>\n",
              "      <td>0</td>\n",
              "      <td>w/d in unit</td>\n",
              "      <td>carport</td>\n",
              "      <td>39.4477</td>\n",
              "      <td>-119.771</td>\n",
              "      <td>California</td>\n",
              "    </tr>\n",
              "    <tr>\n",
              "      <th>6</th>\n",
              "      <td>7049020738</td>\n",
              "      <td>reno / tahoe</td>\n",
              "      <td>935</td>\n",
              "      <td>apartment</td>\n",
              "      <td>661</td>\n",
              "      <td>1</td>\n",
              "      <td>1</td>\n",
              "      <td>1</td>\n",
              "      <td>1</td>\n",
              "      <td>1</td>\n",
              "      <td>0</td>\n",
              "      <td>0</td>\n",
              "      <td>0</td>\n",
              "      <td>laundry on site</td>\n",
              "      <td>off-street parking</td>\n",
              "      <td>39.5118</td>\n",
              "      <td>-119.802</td>\n",
              "      <td>California</td>\n",
              "    </tr>\n",
              "  </tbody>\n",
              "</table>\n",
              "</div>"
            ],
            "text/plain": [
              "           id        region  price  ... latitude  longitude       state\n",
              "0  7049044568  reno / tahoe   1148  ...  39.5483   -119.796  California\n",
              "1  7049047186  reno / tahoe   1200  ...  39.5026   -119.789  California\n",
              "2  7043634882  reno / tahoe   1813  ...  39.6269   -119.708  California\n",
              "3  7049045324  reno / tahoe   1095  ...  39.4477   -119.771  California\n",
              "6  7049020738  reno / tahoe    935  ...  39.5118   -119.802  California\n",
              "\n",
              "[5 rows x 18 columns]"
            ]
          },
          "metadata": {
            "tags": []
          },
          "execution_count": 306
        }
      ]
    },
    {
      "cell_type": "markdown",
      "metadata": {
        "id": "4I01JLtfkzTC"
      },
      "source": [
        "## e.Checking for outliers and anomalies\n"
      ]
    },
    {
      "cell_type": "markdown",
      "metadata": {
        "id": "4TqzMP3qyG2k"
      },
      "source": [
        "We will remove outliers for the price column using the interquantile range scores"
      ]
    },
    {
      "cell_type": "code",
      "metadata": {
        "colab": {
          "base_uri": "https://localhost:8080/",
          "height": 354
        },
        "id": "4-Mq4jFlkzBF",
        "outputId": "3579319f-efa2-42dd-aad5-c81f9f5af283"
      },
      "source": [
        "sns.boxplot(df['price'])\n"
      ],
      "execution_count": null,
      "outputs": [
        {
          "output_type": "stream",
          "text": [
            "/usr/local/lib/python3.7/dist-packages/seaborn/_decorators.py:43: FutureWarning: Pass the following variable as a keyword arg: x. From version 0.12, the only valid positional argument will be `data`, and passing other arguments without an explicit keyword will result in an error or misinterpretation.\n",
            "  FutureWarning\n"
          ],
          "name": "stderr"
        },
        {
          "output_type": "execute_result",
          "data": {
            "text/plain": [
              "<matplotlib.axes._subplots.AxesSubplot at 0x7f54855a1190>"
            ]
          },
          "metadata": {
            "tags": []
          },
          "execution_count": 307
        },
        {
          "output_type": "display_data",
          "data": {
            "image/png": "[encoded data removed]",
            "text/plain": [
              "<Figure size 432x288 with 1 Axes>"
            ]
          },
          "metadata": {
            "tags": [],
            "needs_background": "light"
          }
        }
      ]
    },
    {
      "cell_type": "code",
      "metadata": {
        "id": "0D_QMsXP2p3Y"
      },
      "source": [
        "Q1 = df[['price']].quantile(q=.25)\n",
        "Q3 = df[['price']].quantile(q=.75)\n",
        "IQR = df[['price']].apply(stats.iqr)\n",
        "\n",
        "#only keep rows in dataframe that have values within 1.5*IQR of Q1 and Q3\n",
        "df = df[~((df < (Q1-1.5*IQR)) | (df > (Q3+1.5*IQR))).any(axis=1)]"
      ],
      "execution_count": null,
      "outputs": []
    },
    {
      "cell_type": "code",
      "metadata": {
        "colab": {
          "base_uri": "https://localhost:8080/",
          "height": 354
        },
        "id": "TWLZpvA-lKFR",
        "outputId": "ca48fb7e-ed31-441b-e88b-7de972b3e8a7"
      },
      "source": [
        "sns.boxplot(df['sqfeet'])"
      ],
      "execution_count": null,
      "outputs": [
        {
          "output_type": "stream",
          "text": [
            "/usr/local/lib/python3.7/dist-packages/seaborn/_decorators.py:43: FutureWarning: Pass the following variable as a keyword arg: x. From version 0.12, the only valid positional argument will be `data`, and passing other arguments without an explicit keyword will result in an error or misinterpretation.\n",
            "  FutureWarning\n"
          ],
          "name": "stderr"
        },
        {
          "output_type": "execute_result",
          "data": {
            "text/plain": [
              "<matplotlib.axes._subplots.AxesSubplot at 0x7f5484f89c50>"
            ]
          },
          "metadata": {
            "tags": []
          },
          "execution_count": 309
        },
        {
          "output_type": "display_data",
          "data": {
            "image/png": "[encoded data removed]",
            "text/plain": [
              "<Figure size 432x288 with 1 Axes>"
            ]
          },
          "metadata": {
            "tags": [],
            "needs_background": "light"
          }
        }
      ]
    },
    {
      "cell_type": "code",
      "metadata": {
        "id": "2ClQCNqr2r-J"
      },
      "source": [
        "Q1 = df[['sqfeet']].quantile(q=.25)\n",
        "Q3 = df[['sqfeet']].quantile(q=.75)\n",
        "IQR = df[['sqfeet']].apply(stats.iqr)\n",
        "\n",
        "#only keep rows in dataframe that have values within 1.5*IQR of Q1 and Q3\n",
        "df = df[~((df < (Q1-1.5*IQR)) | (df > (Q3+1.5*IQR))).any(axis=1)]"
      ],
      "execution_count": null,
      "outputs": []
    },
    {
      "cell_type": "code",
      "metadata": {
        "colab": {
          "base_uri": "https://localhost:8080/",
          "height": 355
        },
        "id": "BMwG8xiJlPi4",
        "outputId": "95526645-350a-4ba8-d62f-b123bdb6e945"
      },
      "source": [
        "sns.boxplot(df['number_of_bedrooms'])"
      ],
      "execution_count": null,
      "outputs": [
        {
          "output_type": "stream",
          "text": [
            "/usr/local/lib/python3.7/dist-packages/seaborn/_decorators.py:43: FutureWarning: Pass the following variable as a keyword arg: x. From version 0.12, the only valid positional argument will be `data`, and passing other arguments without an explicit keyword will result in an error or misinterpretation.\n",
            "  FutureWarning\n"
          ],
          "name": "stderr"
        },
        {
          "output_type": "execute_result",
          "data": {
            "text/plain": [
              "<matplotlib.axes._subplots.AxesSubplot at 0x7f5484f89950>"
            ]
          },
          "metadata": {
            "tags": []
          },
          "execution_count": 311
        },
        {
          "output_type": "display_data",
          "data": {
            "image/png": "[encoded data removed]",
            "text/plain": [
              "<Figure size 432x288 with 1 Axes>"
            ]
          },
          "metadata": {
            "tags": [],
            "needs_background": "light"
          }
        }
      ]
    },
    {
      "cell_type": "code",
      "metadata": {
        "id": "K6ozgUrB2vrs"
      },
      "source": [
        "Q1 = df[['number_of_bedrooms']].quantile(q=.25)\n",
        "Q3 = df[['number_of_bedrooms']].quantile(q=.75)\n",
        "IQR = df[['number_of_bedrooms']].apply(stats.iqr)\n",
        "\n",
        "#only keep rows in dataframe that have values within 1.5*IQR of Q1 and Q3\n",
        "df = df[~((df < (Q1-1.5*IQR)) | (df > (Q3+1.5*IQR))).any(axis=1)]"
      ],
      "execution_count": null,
      "outputs": []
    },
    {
      "cell_type": "code",
      "metadata": {
        "colab": {
          "base_uri": "https://localhost:8080/",
          "height": 355
        },
        "id": "miaq7zgUJmu9",
        "outputId": "0c1820e6-d851-4458-d17a-488809cc4d4f"
      },
      "source": [
        "sns.boxplot(df['number_of_bathrooms'])"
      ],
      "execution_count": null,
      "outputs": [
        {
          "output_type": "stream",
          "text": [
            "/usr/local/lib/python3.7/dist-packages/seaborn/_decorators.py:43: FutureWarning: Pass the following variable as a keyword arg: x. From version 0.12, the only valid positional argument will be `data`, and passing other arguments without an explicit keyword will result in an error or misinterpretation.\n",
            "  FutureWarning\n"
          ],
          "name": "stderr"
        },
        {
          "output_type": "execute_result",
          "data": {
            "text/plain": [
              "<matplotlib.axes._subplots.AxesSubplot at 0x7f5474e82650>"
            ]
          },
          "metadata": {
            "tags": []
          },
          "execution_count": 313
        },
        {
          "output_type": "display_data",
          "data": {
            "image/png": "[encoded data removed]",
            "text/plain": [
              "<Figure size 432x288 with 1 Axes>"
            ]
          },
          "metadata": {
            "tags": [],
            "needs_background": "light"
          }
        }
      ]
    },
    {
      "cell_type": "code",
      "metadata": {
        "id": "G5FqTRxe281F"
      },
      "source": [
        "Q1 = df[['number_of_bathrooms']].quantile(q=.25)\n",
        "Q3 = df[['number_of_bathrooms']].quantile(q=.75)\n",
        "IQR = df[['number_of_bathrooms']].apply(stats.iqr)\n",
        "\n",
        "#only keep rows in dataframe that have values within 1.5*IQR of Q1 and Q3\n",
        "df = df[~((df < (Q1-1.5*IQR)) | (df > (Q3+1.5*IQR))).any(axis=1)]"
      ],
      "execution_count": null,
      "outputs": []
    },
    {
      "cell_type": "markdown",
      "metadata": {
        "id": "E6oLerJiml2d"
      },
      "source": [
        "exporting the clean dataset for visualizations in tableau"
      ]
    },
    {
      "cell_type": "code",
      "metadata": {
        "id": "r_t4MaQPGWdN"
      },
      "source": [
        "df.to_csv('clean_housing_dataset.csv',index=False)"
      ],
      "execution_count": null,
      "outputs": []
    },
    {
      "cell_type": "markdown",
      "metadata": {
        "id": "A7LMFRWUCjjk"
      },
      "source": [
        "# 4.0 Univariate analysis"
      ]
    },
    {
      "cell_type": "markdown",
      "metadata": {
        "id": "g3dp1LOkolvs"
      },
      "source": [
        "## a.Frequency tables"
      ]
    },
    {
      "cell_type": "code",
      "metadata": {
        "colab": {
          "base_uri": "https://localhost:8080/"
        },
        "id": "GlYVpDAQJ2MT",
        "outputId": "7c43c732-028f-437c-b167-d05cffd24abc"
      },
      "source": [
        "print('Top Ten most popular settelment by regions\\n',df['region'].value_counts().head(10),'\\n\\n')\n",
        "print('Top Ten least popular settelment by regions\\n',df['region'].value_counts(ascending=True).head(10),'\\n\\n')\n",
        "print('Top Ten most popular settelment by State\\n',df['state'].value_counts().head(10),'\\n\\n')\n",
        "print('Top Ten least popular settelment by State\\n',df['state'].value_counts(ascending=True).head(10),'\\n\\n')\n",
        "print('List of  popular laundry options\\n',df['laundry_options'].value_counts(),'\\n\\n')\n",
        "print('List of popular parking options available\\n',df['parking_options'].value_counts(),'\\n\\n')\n",
        "print('List of the popular house type\\n',df['type'].value_counts(),'\\n\\n')\n"
      ],
      "execution_count": null,
      "outputs": [
        {
          "output_type": "stream",
          "text": [
            "Top Ten most popular settelment by regions\n",
            " rochester                 2614\n",
            "jacksonville              2447\n",
            "columbus                  2071\n",
            "omaha / council bluffs    1980\n",
            "jackson                   1894\n",
            "minneapolis / st paul     1796\n",
            "lincoln                   1782\n",
            "portland                  1760\n",
            "st louis, MO              1757\n",
            "sacramento                1753\n",
            "Name: region, dtype: int64 \n",
            "\n",
            "\n",
            "Top Ten least popular settelment by regions\n",
            " fort smith, AR    1\n",
            "kansas city       3\n",
            "southwest TX      3\n",
            "southwest MS      3\n",
            "southwest VA      5\n",
            "owensboro         6\n",
            "st louis          7\n",
            "susanville        7\n",
            "kirksville        7\n",
            "mason city        9\n",
            "Name: region, dtype: int64 \n",
            "\n",
            "\n",
            "Top Ten most popular settelment by State\n",
            " California        18706\n",
            "Texas             14341\n",
            "Florida           13428\n",
            "Michigan           9197\n",
            "Ohio               8767\n",
            "North Carolina     8400\n",
            "Georgia            6414\n",
            "New York           6172\n",
            "Oregon             6028\n",
            "Illinois           5991\n",
            "Name: state, dtype: int64 \n",
            "\n",
            "\n",
            "Top Ten least popular settelment by State\n",
            " Wyoming                  138\n",
            "Maine                    320\n",
            "West Virginia            345\n",
            "Vermont                  382\n",
            "Delaware                 667\n",
            "Montana                  809\n",
            "Hawaii                  1032\n",
            "District of Columbia    1065\n",
            "Missouri                1332\n",
            "Rhode Island            1361\n",
            "Name: state, dtype: int64 \n",
            "\n",
            "\n",
            "List of  popular laundry options\n",
            " w/d in unit           88102\n",
            "w/d hookups           48372\n",
            "laundry on site       42539\n",
            "laundry in bldg       29690\n",
            "no laundry on site     3152\n",
            "Name: laundry_options, dtype: int64 \n",
            "\n",
            "\n",
            "List of popular parking options available\n",
            " off-street parking    118293\n",
            "carport                36258\n",
            "attached garage        27300\n",
            "street parking         14124\n",
            "detached garage        14102\n",
            "no parking              1688\n",
            "valet parking             90\n",
            "Name: parking_options, dtype: int64 \n",
            "\n",
            "\n",
            "List of the popular house type\n",
            " apartment          175759\n",
            "house               12339\n",
            "townhouse           10952\n",
            "condo                3925\n",
            "duplex               3870\n",
            "manufactured         3462\n",
            "cottage/cabin         530\n",
            "loft                  488\n",
            "flat                  389\n",
            "in-law                136\n",
            "land                    4\n",
            "assisted living         1\n",
            "Name: type, dtype: int64 \n",
            "\n",
            "\n"
          ],
          "name": "stdout"
        }
      ]
    },
    {
      "cell_type": "markdown",
      "metadata": {
        "id": "ZYi6oSuZAQ8D"
      },
      "source": [
        "Some observations made:\n",
        "* The most popular type of housing were the apartments, followed closely by town house and condos came in third place.\n",
        "\n",
        "* The ten most popular settlement locations by state were : California, Texas, Florida, Michigan, Ohio, North Carolina, Georgia, New York, Oregon and illinois.\n",
        " \n",
        "* The most popular type of parking was off street parking with carport and attached garage falling in second and third places consecutively.\n",
        "\n"
      ]
    },
    {
      "cell_type": "markdown",
      "metadata": {
        "id": "m3fyXYGfxmKO"
      },
      "source": [
        "## b. Barcharts"
      ]
    },
    {
      "cell_type": "markdown",
      "metadata": {
        "id": "e6rNHg6mkFNd"
      },
      "source": [
        "We will be checking on house prices based on the consumers background and lifestyle"
      ]
    },
    {
      "cell_type": "code",
      "metadata": {
        "colab": {
          "base_uri": "https://localhost:8080/",
          "height": 301
        },
        "id": "r5HWqxOHvkmO",
        "outputId": "d66675b6-a1fc-4fd3-f634-49a205560677"
      },
      "source": [
        "wheelchairaccess_by_type=df.groupby(df['electric_vehicle_charge'],as_index=False)['price'].mean()\n",
        "plt.bar(wheelchairaccess_by_type['electric_vehicle_charge'],wheelchairaccess_by_type['price'], color='teal')\n",
        "plt.title('Prices of a house given that it adopted the electric vehicle charging system',fontsize=15)\n",
        "plt.xlabel('Does the house have an electrical charging system?',fontsize=14)\n",
        "plt.ylabel('prices')\n",
        "plt.show()"
      ],
      "execution_count": null,
      "outputs": [
        {
          "output_type": "display_data",
          "data": {
            "image/png": "[encoded data removed]",
            "text/plain": [
              "<Figure size 432x288 with 1 Axes>"
            ]
          },
          "metadata": {
            "tags": [],
            "needs_background": "light"
          }
        }
      ]
    },
    {
      "cell_type": "markdown",
      "metadata": {
        "id": "H8xV3h3VBFdN"
      },
      "source": [
        "Houses that offer electric vehicle charging system have higher prices "
      ]
    },
    {
      "cell_type": "code",
      "metadata": {
        "colab": {
          "base_uri": "https://localhost:8080/",
          "height": 301
        },
        "id": "WZ56S0s4EGKz",
        "outputId": "bd3dae93-56b4-4c0c-ef1e-614a0f1a2a5a"
      },
      "source": [
        "\n",
        "wheelchairaccess_by_type=df.groupby(df['wheelchair_access'],as_index=False)['price'].mean()\n",
        "plt.bar(wheelchairaccess_by_type['wheelchair_access'],wheelchairaccess_by_type['price'], color='grey')\n",
        "plt.title('Prices of a house given that it has a wheelchair access',fontsize=15)\n",
        "plt.xlabel('Does the house have a wheelchair access?',fontsize=14)\n",
        "plt.ylabel('prices')\n",
        "plt.show()"
      ],
      "execution_count": null,
      "outputs": [
        {
          "output_type": "display_data",
          "data": {
            "image/png": "[encoded data removed]",
            "text/plain": [
              "<Figure size 432x288 with 1 Axes>"
            ]
          },
          "metadata": {
            "tags": [],
            "needs_background": "light"
          }
        }
      ]
    },
    {
      "cell_type": "markdown",
      "metadata": {
        "id": "YXT_T8nORzCe"
      },
      "source": [
        "There is a higher chance an individual will pay higher price for a house which has a wheelchair access"
      ]
    },
    {
      "cell_type": "code",
      "metadata": {
        "colab": {
          "base_uri": "https://localhost:8080/",
          "height": 301
        },
        "id": "o6FiBmwmDd8K",
        "outputId": "1a479828-1fc9-4fbc-c643-71eb5360044e"
      },
      "source": [
        "wheelchairaccess_by_type=df.groupby(df['smoking_allowed'],as_index=False)['price'].mean()\n",
        "plt.bar(wheelchairaccess_by_type['smoking_allowed'],wheelchairaccess_by_type['price'], color='green')\n",
        "plt.title('Prices of a house given that allows smoking',fontsize=15)\n",
        "plt.xlabel('Does the house allow smoking ?',fontsize=14)\n",
        "plt.ylabel('prices')\n",
        "plt.show()"
      ],
      "execution_count": null,
      "outputs": [
        {
          "output_type": "display_data",
          "data": {
            "image/png": "[encoded data removed]",
            "text/plain": [
              "<Figure size 432x288 with 1 Axes>"
            ]
          },
          "metadata": {
            "tags": [],
            "needs_background": "light"
          }
        }
      ]
    },
    {
      "cell_type": "markdown",
      "metadata": {
        "id": "-d1LAuGiRYGU"
      },
      "source": [
        "Prices for houses that dont allow smoking were higher prices as compared to houses which do not allow smoking."
      ]
    },
    {
      "cell_type": "code",
      "metadata": {
        "colab": {
          "base_uri": "https://localhost:8080/",
          "height": 301
        },
        "id": "65DTV89Huvs9",
        "outputId": "5a5211f9-4fb7-4777-9228-214a4634c4e0"
      },
      "source": [
        "dogs_by_type=df.groupby(df['dogs_allowed'],as_index=False)['sqfeet'].count()\n",
        "plt.bar(dogs_by_type['dogs_allowed'],dogs_by_type['sqfeet'], color='green')\n",
        "plt.title('Price of a house given that dogs are allows(pets)',fontsize=15)\n",
        "plt.xlabel('Are dogs allowed?',fontsize=14)\n",
        "plt.ylabel('prices')\n",
        "plt.show()"
      ],
      "execution_count": null,
      "outputs": [
        {
          "output_type": "display_data",
          "data": {
            "image/png": "[encoded data removed]",
            "text/plain": [
              "<Figure size 432x288 with 1 Axes>"
            ]
          },
          "metadata": {
            "tags": [],
            "needs_background": "light"
          }
        }
      ]
    },
    {
      "cell_type": "code",
      "metadata": {
        "colab": {
          "base_uri": "https://localhost:8080/",
          "height": 301
        },
        "id": "5joH6MxO-LCL",
        "outputId": "44736087-0850-463f-9e50-3467b8e080d7"
      },
      "source": [
        "dogs_by_type=df.groupby(df['cats_allowed'],as_index=False)['sqfeet'].count()\n",
        "plt.bar(dogs_by_type['cats_allowed'],dogs_by_type['sqfeet'], color='purple')\n",
        "plt.title('Price of a house given that cats are allows(pets)',fontsize=15)\n",
        "plt.xlabel('are dogs allowed?',fontsize=14)\n",
        "plt.ylabel('prices')\n",
        "plt.show()"
      ],
      "execution_count": null,
      "outputs": [
        {
          "output_type": "display_data",
          "data": {
            "image/png": "[encoded data removed]",
            "text/plain": [
              "<Figure size 432x288 with 1 Axes>"
            ]
          },
          "metadata": {
            "tags": [],
            "needs_background": "light"
          }
        }
      ]
    },
    {
      "cell_type": "markdown",
      "metadata": {
        "id": "-AwSfQ9nQxnr"
      },
      "source": [
        "Generally,home owners who have pets do pay higher prices for a house than the home owners who do not."
      ]
    },
    {
      "cell_type": "code",
      "metadata": {
        "colab": {
          "base_uri": "https://localhost:8080/",
          "height": 341
        },
        "id": "uMOTLXIYf4r-",
        "outputId": "dfe08899-e0b9-4383-f5e8-aa9596940d52"
      },
      "source": [
        "# A bar chart showing relationship between house type and price.\n",
        "house_by_type=df.groupby(df['type'],as_index=False)['price'].mean()\n",
        "plt.bar(house_by_type['type'],house_by_type['price'], color='green')\n",
        "\n",
        "\n",
        "plt.title('The variations of prices by the type of house',fontsize=15)\n",
        "plt.xlabel('house type')\n",
        "plt.xticks(rotation=40)\n",
        "plt.ylabel('prices')\n",
        "plt.show()"
      ],
      "execution_count": null,
      "outputs": [
        {
          "output_type": "display_data",
          "data": {
            "image/png": "[encoded data removed]",
            "text/plain": [
              "<Figure size 432x288 with 1 Axes>"
            ]
          },
          "metadata": {
            "tags": [],
            "needs_background": "light"
          }
        }
      ]
    },
    {
      "cell_type": "markdown",
      "metadata": {
        "id": "csmq1JlFSmab"
      },
      "source": [
        "On average, an individual is likely to pay higher living in a condo or flat.\n",
        "\n",
        "Also, the price of a townhouse is slighty higher than of a cottage/cabin and a duplex \n",
        "\n",
        "Assisted living offers the least price across the States"
      ]
    },
    {
      "cell_type": "code",
      "metadata": {
        "colab": {
          "base_uri": "https://localhost:8080/",
          "height": 341
        },
        "id": "mquGUVH4_d_X",
        "outputId": "c1d6acc0-63ab-4877-ad0a-d10eb9725f0a"
      },
      "source": [
        "house_by_type=df.groupby(df['type'],as_index=False)['sqfeet'].mean()\n",
        "plt.bar(house_by_type['type'],house_by_type['sqfeet'], color='teal')\n",
        "\n",
        "\n",
        "plt.title('The variations of sizes by the type of house',fontsize=15)\n",
        "plt.xlabel('house type')\n",
        "plt.xticks(rotation=40)\n",
        "plt.ylabel('prices')\n",
        "plt.show()"
      ],
      "execution_count": null,
      "outputs": [
        {
          "output_type": "display_data",
          "data": {
            "image/png": "[encoded data removed]",
            "text/plain": [
              "<Figure size 432x288 with 1 Axes>"
            ]
          },
          "metadata": {
            "tags": [],
            "needs_background": "light"
          }
        }
      ]
    },
    {
      "cell_type": "code",
      "metadata": {
        "colab": {
          "base_uri": "https://localhost:8080/",
          "height": 341
        },
        "id": "5wt2LBhcu10h",
        "outputId": "4418ecbb-e116-4680-efe0-e8bf8f4e938b"
      },
      "source": [
        "house_by_type=df.groupby(df['type'],as_index=False)['number_of_bedrooms'].mean()\n",
        "plt.bar(house_by_type['type'],house_by_type['number_of_bedrooms'],)\n",
        "plt.title('The number of bedrooms given the type of house',fontsize=15)\n",
        "plt.xlabel('house type')\n",
        "plt.xticks(rotation=40)\n",
        "plt.ylabel('number of bedrooms')\n",
        "plt.show()"
      ],
      "execution_count": null,
      "outputs": [
        {
          "output_type": "display_data",
          "data": {
            "image/png": "[encoded data removed]",
            "text/plain": [
              "<Figure size 432x288 with 1 Axes>"
            ]
          },
          "metadata": {
            "tags": [],
            "needs_background": "light"
          }
        }
      ]
    },
    {
      "cell_type": "code",
      "metadata": {
        "colab": {
          "base_uri": "https://localhost:8080/",
          "height": 341
        },
        "id": "PbPo3_wSKwFC",
        "outputId": "b20035ec-2d3d-4090-bde4-9b0d27f50218"
      },
      "source": [
        "house_by_type=df.groupby(df['type'],as_index=False)['number_of_bathrooms'].mean()\n",
        "plt.bar(house_by_type['type'],house_by_type['number_of_bathrooms'],)\n",
        "plt.title('The number of bathrooms given the type of house',fontsize=15)\n",
        "plt.xlabel('house type')\n",
        "plt.xticks(rotation=40)\n",
        "plt.ylabel('number of bathrooms')\n",
        "plt.show()"
      ],
      "execution_count": null,
      "outputs": [
        {
          "output_type": "display_data",
          "data": {
            "image/png": "[encoded data removed]",
            "text/plain": [
              "<Figure size 432x288 with 1 Axes>"
            ]
          },
          "metadata": {
            "tags": [],
            "needs_background": "light"
          }
        }
      ]
    },
    {
      "cell_type": "markdown",
      "metadata": {
        "id": "av_WmcOUSvDi"
      },
      "source": [
        "a manufatcured house has more number of bathrooms and bedrooms as compared to any other type of house"
      ]
    },
    {
      "cell_type": "code",
      "metadata": {
        "colab": {
          "base_uri": "https://localhost:8080/",
          "height": 341
        },
        "id": "E-NOhrxUve6r",
        "outputId": "d17e9027-6b4b-4093-bc71-967fa8289606"
      },
      "source": [
        "house_by_type=df.groupby(df['type'],as_index=False)['cats_allowed'].mean()\n",
        "plt.bar(house_by_type['type'],house_by_type['cats_allowed'], color='green')\n",
        "plt.title('The type of houses given that cats are allowed',fontsize=15)\n",
        "plt.xlabel('house type')\n",
        "plt.xticks(rotation=40)\n",
        "plt.ylabel('if cats are allowed')\n",
        "plt.show()"
      ],
      "execution_count": null,
      "outputs": [
        {
          "output_type": "display_data",
          "data": {
            "image/png": "[encoded data removed]",
            "text/plain": [
              "<Figure size 432x288 with 1 Axes>"
            ]
          },
          "metadata": {
            "tags": [],
            "needs_background": "light"
          }
        }
      ]
    },
    {
      "cell_type": "code",
      "metadata": {
        "colab": {
          "base_uri": "https://localhost:8080/",
          "height": 341
        },
        "id": "4Goy1DkSv06b",
        "outputId": "fed2d3b7-9413-4f0f-b540-096717450ebd"
      },
      "source": [
        "house_by_type=df.groupby(df['type'],as_index=False)['dogs_allowed'].mean()\n",
        "plt.bar(house_by_type['type'],house_by_type['dogs_allowed'], color='green')\n",
        "plt.title('The type of houses given that dogs are allowed',fontsize=15)\n",
        "plt.xlabel('house type')\n",
        "plt.xticks(rotation=40)\n",
        "plt.ylabel('if dogs are allowed')\n",
        "plt.show()"
      ],
      "execution_count": null,
      "outputs": [
        {
          "output_type": "display_data",
          "data": {
            "image/png": "[encoded data removed]",
            "text/plain": [
              "<Figure size 432x288 with 1 Axes>"
            ]
          },
          "metadata": {
            "tags": [],
            "needs_background": "light"
          }
        }
      ]
    },
    {
      "cell_type": "markdown",
      "metadata": {
        "id": "OMyvRyixZVq7"
      },
      "source": [
        "Apartments were the type of housing with the highest score for allowing cats followed closely by town house and flats consecutively."
      ]
    },
    {
      "cell_type": "code",
      "metadata": {
        "colab": {
          "base_uri": "https://localhost:8080/",
          "height": 297
        },
        "id": "kNn1xm62NwUR",
        "outputId": "507cb970-8d8c-4c2d-9e07-61b69c307ed3"
      },
      "source": [
        "a=df.groupby(df['type'])[['number_of_bedrooms','number_of_bathrooms']].mean()\n",
        "a[['number_of_bedrooms','number_of_bathrooms']].plot()\n",
        "plt.title('Line graph showing the number of bathrooms in comparison to the number of bedrooms',fontsize=15)\n",
        "plt.xlabel('type of house')\n",
        "plt.ylabel('mean value')\n",
        "plt.show()"
      ],
      "execution_count": null,
      "outputs": [
        {
          "output_type": "display_data",
          "data": {
            "image/png": "[encoded data removed]",
            "text/plain": [
              "<Figure size 432x288 with 1 Axes>"
            ]
          },
          "metadata": {
            "tags": [],
            "needs_background": "light"
          }
        }
      ]
    },
    {
      "cell_type": "markdown",
      "metadata": {
        "id": "qUPA3-Br3tl2"
      },
      "source": [
        "A duplex and a house seemingly offer more shared bathrooms as compared to the bedrooms\n",
        "\n",
        "\n",
        "\n"
      ]
    },
    {
      "cell_type": "code",
      "metadata": {
        "colab": {
          "base_uri": "https://localhost:8080/",
          "height": 297
        },
        "id": "-XFqPkW0XxZ4",
        "outputId": "1be03506-9e33-49c1-cc2e-cd28630671ac"
      },
      "source": [
        "a=df.groupby(df['type'])[['price','sqfeet']].mean()\n",
        "a[['price','sqfeet']].plot()\n",
        "plt.title('Line graph showing the house prices  in comparison to the size(square-feet)',fontsize=15)\n",
        "plt.xlabel('type of house')\n",
        "plt.ylabel('mean value')\n",
        "plt.show()"
      ],
      "execution_count": null,
      "outputs": [
        {
          "output_type": "display_data",
          "data": {
            "image/png": "[encoded data removed]",
            "text/plain": [
              "<Figure size 432x288 with 1 Axes>"
            ]
          },
          "metadata": {
            "tags": [],
            "needs_background": "light"
          }
        }
      ]
    },
    {
      "cell_type": "markdown",
      "metadata": {
        "id": "GkFXfMZ14eA-"
      },
      "source": [
        "It makes sense that for assisted living the price of a house would be less than the space offered"
      ]
    },
    {
      "cell_type": "markdown",
      "metadata": {
        "id": "-fenDWlJ16jt"
      },
      "source": [
        "## c. Piecharts"
      ]
    },
    {
      "cell_type": "code",
      "metadata": {
        "colab": {
          "base_uri": "https://localhost:8080/",
          "height": 379
        },
        "id": "FILR5bZV33Fm",
        "outputId": "04212af7-d03a-4cba-87e5-9c29282e19d1"
      },
      "source": [
        "parkingdf=df.groupby(df['parking_options'],as_index=False)['sqfeet'].mean()\n",
        "plt.figure(figsize=(12, 6))\n",
        "plt.pie(parkingdf.sqfeet,labels=parkingdf['parking_options'], autopct='%1.1f%%',startangle=90,counterclock=False)\n",
        "plt.title('Which type of parking spaces require a large area?',fontsize=20)\n",
        "plt.axis('equal')\n",
        "plt.show()"
      ],
      "execution_count": null,
      "outputs": [
        {
          "output_type": "display_data",
          "data": {
            "image/png": "[encoded data removed]",
            "text/plain": [
              "<Figure size 864x432 with 1 Axes>"
            ]
          },
          "metadata": {
            "tags": []
          }
        }
      ]
    },
    {
      "cell_type": "code",
      "metadata": {
        "colab": {
          "base_uri": "https://localhost:8080/",
          "height": 382
        },
        "id": "sWXbnW9O4rj6",
        "outputId": "b8c8d5e4-a2ad-4e10-9396-917e1f819387"
      },
      "source": [
        "wheeldf=df.groupby(df['electric_vehicle_charge'],as_index=False)['region'].count()\n",
        "plt.figure(figsize=(12, 6))\n",
        "plt.pie(wheeldf['region'],labels=wheeldf['electric_vehicle_charge'], autopct='%1.1f%%',startangle=90,counterclock=False)\n",
        "plt.title('The portion of houses that has adopted the electric vehicle charging system',fontsize=20)\n",
        "plt.axis('equal')\n",
        "plt.show()"
      ],
      "execution_count": null,
      "outputs": [
        {
          "output_type": "display_data",
          "data": {
            "image/png": "[encoded data removed]",
            "text/plain": [
              "<Figure size 864x432 with 1 Axes>"
            ]
          },
          "metadata": {
            "tags": []
          }
        }
      ]
    },
    {
      "cell_type": "markdown",
      "metadata": {
        "id": "6nNUWScUVIHX"
      },
      "source": [
        "Across all States, less than 2% of the houses have adopted the electric vehicle charging system"
      ]
    },
    {
      "cell_type": "code",
      "metadata": {
        "colab": {
          "base_uri": "https://localhost:8080/",
          "height": 378
        },
        "id": "yCwe7cTX7M5-",
        "outputId": "7e38e505-e9b0-4154-cbdf-6ac86be47675"
      },
      "source": [
        "parkingdf=df.groupby(df['state'],as_index=False)['sqfeet'].sum().head(10)\n",
        "parkingdf\n",
        "plt.figure(figsize=(12, 6))\n",
        "plt.pie(parkingdf.sqfeet,labels=parkingdf['state'], autopct='%1.1f%%',startangle=90,counterclock=False)\n",
        "plt.title('Top Ten states that offer large house spaces on average',fontsize=20)\n",
        "plt.axis('equal')\n",
        "plt.show()"
      ],
      "execution_count": null,
      "outputs": [
        {
          "output_type": "display_data",
          "data": {
            "image/png": "[encoded data removed]",
            "text/plain": [
              "<Figure size 864x432 with 1 Axes>"
            ]
          },
          "metadata": {
            "tags": []
          }
        }
      ]
    },
    {
      "cell_type": "code",
      "metadata": {
        "colab": {
          "base_uri": "https://localhost:8080/",
          "height": 378
        },
        "id": "0bs3SVyKj76n",
        "outputId": "c518e7b2-8ebc-483a-b9e5-8fafb9d2b9d3"
      },
      "source": [
        "parkingdf=df.groupby(df['state'],as_index=False)['price'].sum().head(10)\n",
        "parkingdf\n",
        "plt.figure(figsize=(12, 6))\n",
        "plt.pie(parkingdf.price,labels=parkingdf['state'], autopct='%1.1f%%',startangle=90,counterclock=False)\n",
        "plt.title('Top Ten States that offer high prices for a house on average',fontsize=20)\n",
        "plt.axis('equal')\n",
        "plt.show()"
      ],
      "execution_count": null,
      "outputs": [
        {
          "output_type": "display_data",
          "data": {
            "image/png": "[encoded data removed]",
            "text/plain": [
              "<Figure size 864x432 with 1 Axes>"
            ]
          },
          "metadata": {
            "tags": []
          }
        }
      ]
    },
    {
      "cell_type": "code",
      "metadata": {
        "colab": {
          "base_uri": "https://localhost:8080/"
        },
        "id": "6OO8RFL0qCTw",
        "outputId": "948bc2d6-16e9-4192-ad2d-172aa2499312"
      },
      "source": [
        "df.columns"
      ],
      "execution_count": null,
      "outputs": [
        {
          "output_type": "execute_result",
          "data": {
            "text/plain": [
              "Index(['id', 'region', 'price', 'type', 'sqfeet', 'number_of_bedrooms',\n",
              "       'number_of_bathrooms', 'cats_allowed', 'dogs_allowed',\n",
              "       'smoking_allowed', 'wheelchair_access', 'electric_vehicle_charge',\n",
              "       'comes_furnished', 'laundry_options', 'parking_options', 'latitude',\n",
              "       'longitude', 'state'],\n",
              "      dtype='object')"
            ]
          },
          "metadata": {
            "tags": []
          },
          "execution_count": 334
        }
      ]
    },
    {
      "cell_type": "code",
      "metadata": {
        "colab": {
          "base_uri": "https://localhost:8080/",
          "height": 288
        },
        "id": "T9hwqYHu7vgZ",
        "outputId": "69d75993-5d27-4697-862f-b93df446f4e2"
      },
      "source": [
        "df[['price','sqfeet']].describe()"
      ],
      "execution_count": null,
      "outputs": [
        {
          "output_type": "execute_result",
          "data": {
            "text/html": [
              "<div>\n",
              "<style scoped>\n",
              "    .dataframe tbody tr th:only-of-type {\n",
              "        vertical-align: middle;\n",
              "    }\n",
              "\n",
              "    .dataframe tbody tr th {\n",
              "        vertical-align: top;\n",
              "    }\n",
              "\n",
              "    .dataframe thead th {\n",
              "        text-align: right;\n",
              "    }\n",
              "</style>\n",
              "<table border=\"1\" class=\"dataframe\">\n",
              "  <thead>\n",
              "    <tr style=\"text-align: right;\">\n",
              "      <th></th>\n",
              "      <th>price</th>\n",
              "      <th>sqfeet</th>\n",
              "    </tr>\n",
              "  </thead>\n",
              "  <tbody>\n",
              "    <tr>\n",
              "      <th>count</th>\n",
              "      <td>211855.000000</td>\n",
              "      <td>211855.000000</td>\n",
              "    </tr>\n",
              "    <tr>\n",
              "      <th>mean</th>\n",
              "      <td>1109.299384</td>\n",
              "      <td>929.698459</td>\n",
              "    </tr>\n",
              "    <tr>\n",
              "      <th>std</th>\n",
              "      <td>420.532179</td>\n",
              "      <td>268.610145</td>\n",
              "    </tr>\n",
              "    <tr>\n",
              "      <th>min</th>\n",
              "      <td>0.000000</td>\n",
              "      <td>174.000000</td>\n",
              "    </tr>\n",
              "    <tr>\n",
              "      <th>25%</th>\n",
              "      <td>800.000000</td>\n",
              "      <td>736.000000</td>\n",
              "    </tr>\n",
              "    <tr>\n",
              "      <th>50%</th>\n",
              "      <td>1010.000000</td>\n",
              "      <td>915.000000</td>\n",
              "    </tr>\n",
              "    <tr>\n",
              "      <th>75%</th>\n",
              "      <td>1360.000000</td>\n",
              "      <td>1100.000000</td>\n",
              "    </tr>\n",
              "    <tr>\n",
              "      <th>max</th>\n",
              "      <td>2431.000000</td>\n",
              "      <td>1712.000000</td>\n",
              "    </tr>\n",
              "  </tbody>\n",
              "</table>\n",
              "</div>"
            ],
            "text/plain": [
              "               price         sqfeet\n",
              "count  211855.000000  211855.000000\n",
              "mean     1109.299384     929.698459\n",
              "std       420.532179     268.610145\n",
              "min         0.000000     174.000000\n",
              "25%       800.000000     736.000000\n",
              "50%      1010.000000     915.000000\n",
              "75%      1360.000000    1100.000000\n",
              "max      2431.000000    1712.000000"
            ]
          },
          "metadata": {
            "tags": []
          },
          "execution_count": 335
        }
      ]
    },
    {
      "cell_type": "markdown",
      "metadata": {
        "id": "mCeB3ohOgxTz"
      },
      "source": [
        "# 5.0 Bivariate analysis"
      ]
    },
    {
      "cell_type": "code",
      "metadata": {
        "colab": {
          "base_uri": "https://localhost:8080/",
          "height": 409
        },
        "id": "azkZlwSrgwr_",
        "outputId": "cdbbd013-9622-4fa4-e218-7ef46dfc7c79"
      },
      "source": [
        "plt.figure(figsize=(12, 6))\n",
        "plt.scatter(df['price'], df['sqfeet'])\n",
        "plt.title('A scatter plot of price of houses to their sizes',fontsize=20)\n",
        "plt.xlabel('House prices(in dollars)')\n",
        "plt.ylabel('house sizes(in ft)')\n",
        "plt.show()"
      ],
      "execution_count": null,
      "outputs": [
        {
          "output_type": "display_data",
          "data": {
            "image/png": "[encoded data removed]",
            "text/plain": [
              "<Figure size 864x432 with 1 Axes>"
            ]
          },
          "metadata": {
            "tags": [],
            "needs_background": "light"
          }
        }
      ]
    },
    {
      "cell_type": "markdown",
      "metadata": {
        "id": "HvsDsNqAxjLh"
      },
      "source": [
        "The scatter plot indicate a positive weak positive correlation between price and the floor size of a house"
      ]
    },
    {
      "cell_type": "code",
      "metadata": {
        "colab": {
          "base_uri": "https://localhost:8080/",
          "height": 611
        },
        "id": "PiI_UxODokyQ",
        "outputId": "7f765b66-cdcc-4500-c14d-bcdf21e97f0c"
      },
      "source": [
        "plt.figure(figsize=(18, 8))\n",
        "\n",
        "housing_corr = df.corr()\n",
        "sns.heatmap(housing_corr, \n",
        "            xticklabels = housing_corr.columns.values,\n",
        "            yticklabels = housing_corr.columns.values,\n",
        "            annot = True)\n",
        "plt.title('A heatmap showing the various correlations',fontsize=20)\n",
        "plt.show()"
      ],
      "execution_count": null,
      "outputs": [
        {
          "output_type": "display_data",
          "data": {
            "image/png": "[encoded data removed]",
            "text/plain": [
              "<Figure size 1296x576 with 2 Axes>"
            ]
          },
          "metadata": {
            "tags": [],
            "needs_background": "light"
          }
        }
      ]
    },
    {
      "cell_type": "markdown",
      "metadata": {
        "id": "qzzekycFx78B"
      },
      "source": [
        "\n",
        "*   There was weak positive correlation(0.32) between the size of the house(Sqfeet) and their prices.\n",
        "*  A weak positive correlation was also observed between the price of the houses and the number of bathrooms/bedrooms.\n",
        "\n",
        "\n",
        "\n",
        "\n",
        "\n"
      ]
    },
    {
      "cell_type": "code",
      "metadata": {
        "colab": {
          "base_uri": "https://localhost:8080/",
          "height": 475
        },
        "id": "NsOKwFbmhg7Y",
        "outputId": "ac619b47-4ae8-4c77-f83d-fa6aa11c785f"
      },
      "source": [
        "!pip install -q researchpy\n",
        "import researchpy as rp\n",
        "rp.summary_cont(df.groupby(\"type\")['price'])\n",
        "#\n",
        "# flats were the most priced type of housing with an average cost of $ 1382. condo came in second with an average price of $ 1361\n",
        "# followed closely by loft with an average price of $ 1271."
      ],
      "execution_count": null,
      "outputs": [
        {
          "output_type": "stream",
          "text": [
            "\n",
            "\n"
          ],
          "name": "stdout"
        },
        {
          "output_type": "execute_result",
          "data": {
            "text/html": [
              "<div>\n",
              "<style scoped>\n",
              "    .dataframe tbody tr th:only-of-type {\n",
              "        vertical-align: middle;\n",
              "    }\n",
              "\n",
              "    .dataframe tbody tr th {\n",
              "        vertical-align: top;\n",
              "    }\n",
              "\n",
              "    .dataframe thead th {\n",
              "        text-align: right;\n",
              "    }\n",
              "</style>\n",
              "<table border=\"1\" class=\"dataframe\">\n",
              "  <thead>\n",
              "    <tr style=\"text-align: right;\">\n",
              "      <th></th>\n",
              "      <th>N</th>\n",
              "      <th>Mean</th>\n",
              "      <th>SD</th>\n",
              "      <th>SE</th>\n",
              "      <th>95% Conf.</th>\n",
              "      <th>Interval</th>\n",
              "    </tr>\n",
              "    <tr>\n",
              "      <th>type</th>\n",
              "      <th></th>\n",
              "      <th></th>\n",
              "      <th></th>\n",
              "      <th></th>\n",
              "      <th></th>\n",
              "      <th></th>\n",
              "    </tr>\n",
              "  </thead>\n",
              "  <tbody>\n",
              "    <tr>\n",
              "      <th>apartment</th>\n",
              "      <td>175759</td>\n",
              "      <td>1097.2930</td>\n",
              "      <td>417.9552</td>\n",
              "      <td>0.9969</td>\n",
              "      <td>1095.3390</td>\n",
              "      <td>1099.2470</td>\n",
              "    </tr>\n",
              "    <tr>\n",
              "      <th>assisted living</th>\n",
              "      <td>1</td>\n",
              "      <td>175.0000</td>\n",
              "      <td>NaN</td>\n",
              "      <td>NaN</td>\n",
              "      <td>NaN</td>\n",
              "      <td>NaN</td>\n",
              "    </tr>\n",
              "    <tr>\n",
              "      <th>condo</th>\n",
              "      <td>3925</td>\n",
              "      <td>1361.5259</td>\n",
              "      <td>466.8960</td>\n",
              "      <td>7.4525</td>\n",
              "      <td>1346.9148</td>\n",
              "      <td>1376.1369</td>\n",
              "    </tr>\n",
              "    <tr>\n",
              "      <th>cottage/cabin</th>\n",
              "      <td>530</td>\n",
              "      <td>1127.0340</td>\n",
              "      <td>450.9089</td>\n",
              "      <td>19.5862</td>\n",
              "      <td>1088.5576</td>\n",
              "      <td>1165.5103</td>\n",
              "    </tr>\n",
              "    <tr>\n",
              "      <th>duplex</th>\n",
              "      <td>3870</td>\n",
              "      <td>1123.8186</td>\n",
              "      <td>403.7475</td>\n",
              "      <td>6.4901</td>\n",
              "      <td>1111.0942</td>\n",
              "      <td>1136.5430</td>\n",
              "    </tr>\n",
              "    <tr>\n",
              "      <th>flat</th>\n",
              "      <td>389</td>\n",
              "      <td>1382.2494</td>\n",
              "      <td>495.6904</td>\n",
              "      <td>25.1325</td>\n",
              "      <td>1332.8364</td>\n",
              "      <td>1431.6623</td>\n",
              "    </tr>\n",
              "    <tr>\n",
              "      <th>house</th>\n",
              "      <td>12339</td>\n",
              "      <td>1175.7998</td>\n",
              "      <td>430.9602</td>\n",
              "      <td>3.8797</td>\n",
              "      <td>1168.1950</td>\n",
              "      <td>1183.4046</td>\n",
              "    </tr>\n",
              "    <tr>\n",
              "      <th>in-law</th>\n",
              "      <td>136</td>\n",
              "      <td>1243.8235</td>\n",
              "      <td>449.9167</td>\n",
              "      <td>38.5800</td>\n",
              "      <td>1167.5241</td>\n",
              "      <td>1320.1230</td>\n",
              "    </tr>\n",
              "    <tr>\n",
              "      <th>land</th>\n",
              "      <td>4</td>\n",
              "      <td>525.0000</td>\n",
              "      <td>165.8312</td>\n",
              "      <td>82.9156</td>\n",
              "      <td>261.1255</td>\n",
              "      <td>788.8745</td>\n",
              "    </tr>\n",
              "    <tr>\n",
              "      <th>loft</th>\n",
              "      <td>488</td>\n",
              "      <td>1271.3791</td>\n",
              "      <td>476.4438</td>\n",
              "      <td>21.5676</td>\n",
              "      <td>1229.0021</td>\n",
              "      <td>1313.7561</td>\n",
              "    </tr>\n",
              "    <tr>\n",
              "      <th>manufactured</th>\n",
              "      <td>3462</td>\n",
              "      <td>887.9506</td>\n",
              "      <td>247.2246</td>\n",
              "      <td>4.2017</td>\n",
              "      <td>879.7125</td>\n",
              "      <td>896.1887</td>\n",
              "    </tr>\n",
              "    <tr>\n",
              "      <th>townhouse</th>\n",
              "      <td>10952</td>\n",
              "      <td>1182.3556</td>\n",
              "      <td>408.5773</td>\n",
              "      <td>3.9042</td>\n",
              "      <td>1174.7027</td>\n",
              "      <td>1190.0084</td>\n",
              "    </tr>\n",
              "  </tbody>\n",
              "</table>\n",
              "</div>"
            ],
            "text/plain": [
              "                      N       Mean        SD       SE  95% Conf.   Interval\n",
              "type                                                                       \n",
              "apartment        175759  1097.2930  417.9552   0.9969  1095.3390  1099.2470\n",
              "assisted living       1   175.0000       NaN      NaN        NaN        NaN\n",
              "condo              3925  1361.5259  466.8960   7.4525  1346.9148  1376.1369\n",
              "cottage/cabin       530  1127.0340  450.9089  19.5862  1088.5576  1165.5103\n",
              "duplex             3870  1123.8186  403.7475   6.4901  1111.0942  1136.5430\n",
              "flat                389  1382.2494  495.6904  25.1325  1332.8364  1431.6623\n",
              "house             12339  1175.7998  430.9602   3.8797  1168.1950  1183.4046\n",
              "in-law              136  1243.8235  449.9167  38.5800  1167.5241  1320.1230\n",
              "land                  4   525.0000  165.8312  82.9156   261.1255   788.8745\n",
              "loft                488  1271.3791  476.4438  21.5676  1229.0021  1313.7561\n",
              "manufactured       3462   887.9506  247.2246   4.2017   879.7125   896.1887\n",
              "townhouse         10952  1182.3556  408.5773   3.9042  1174.7027  1190.0084"
            ]
          },
          "metadata": {
            "tags": []
          },
          "execution_count": 338
        }
      ]
    },
    {
      "cell_type": "code",
      "metadata": {
        "colab": {
          "base_uri": "https://localhost:8080/",
          "height": 475
        },
        "id": "DSlUsc7vtvXP",
        "outputId": "35487089-1c97-4ecb-c6d7-edc51de31b7c"
      },
      "source": [
        "rp.summary_cont(df.groupby(\"type\")['sqfeet'])\n"
      ],
      "execution_count": null,
      "outputs": [
        {
          "output_type": "stream",
          "text": [
            "\n",
            "\n"
          ],
          "name": "stdout"
        },
        {
          "output_type": "execute_result",
          "data": {
            "text/html": [
              "<div>\n",
              "<style scoped>\n",
              "    .dataframe tbody tr th:only-of-type {\n",
              "        vertical-align: middle;\n",
              "    }\n",
              "\n",
              "    .dataframe tbody tr th {\n",
              "        vertical-align: top;\n",
              "    }\n",
              "\n",
              "    .dataframe thead th {\n",
              "        text-align: right;\n",
              "    }\n",
              "</style>\n",
              "<table border=\"1\" class=\"dataframe\">\n",
              "  <thead>\n",
              "    <tr style=\"text-align: right;\">\n",
              "      <th></th>\n",
              "      <th>N</th>\n",
              "      <th>Mean</th>\n",
              "      <th>SD</th>\n",
              "      <th>SE</th>\n",
              "      <th>95% Conf.</th>\n",
              "      <th>Interval</th>\n",
              "    </tr>\n",
              "    <tr>\n",
              "      <th>type</th>\n",
              "      <th></th>\n",
              "      <th></th>\n",
              "      <th></th>\n",
              "      <th></th>\n",
              "      <th></th>\n",
              "      <th></th>\n",
              "    </tr>\n",
              "  </thead>\n",
              "  <tbody>\n",
              "    <tr>\n",
              "      <th>apartment</th>\n",
              "      <td>175759</td>\n",
              "      <td>886.7148</td>\n",
              "      <td>243.5299</td>\n",
              "      <td>0.5809</td>\n",
              "      <td>885.5762</td>\n",
              "      <td>887.8533</td>\n",
              "    </tr>\n",
              "    <tr>\n",
              "      <th>assisted living</th>\n",
              "      <td>1</td>\n",
              "      <td>500.0000</td>\n",
              "      <td>NaN</td>\n",
              "      <td>NaN</td>\n",
              "      <td>NaN</td>\n",
              "      <td>NaN</td>\n",
              "    </tr>\n",
              "    <tr>\n",
              "      <th>condo</th>\n",
              "      <td>3925</td>\n",
              "      <td>972.7929</td>\n",
              "      <td>294.1245</td>\n",
              "      <td>4.6947</td>\n",
              "      <td>963.5885</td>\n",
              "      <td>981.9972</td>\n",
              "    </tr>\n",
              "    <tr>\n",
              "      <th>cottage/cabin</th>\n",
              "      <td>530</td>\n",
              "      <td>750.5528</td>\n",
              "      <td>290.9901</td>\n",
              "      <td>12.6398</td>\n",
              "      <td>725.7225</td>\n",
              "      <td>775.3832</td>\n",
              "    </tr>\n",
              "    <tr>\n",
              "      <th>duplex</th>\n",
              "      <td>3870</td>\n",
              "      <td>1081.0129</td>\n",
              "      <td>273.7401</td>\n",
              "      <td>4.4003</td>\n",
              "      <td>1072.3858</td>\n",
              "      <td>1089.6401</td>\n",
              "    </tr>\n",
              "    <tr>\n",
              "      <th>flat</th>\n",
              "      <td>389</td>\n",
              "      <td>952.9537</td>\n",
              "      <td>301.8335</td>\n",
              "      <td>15.3036</td>\n",
              "      <td>922.8654</td>\n",
              "      <td>983.0420</td>\n",
              "    </tr>\n",
              "    <tr>\n",
              "      <th>house</th>\n",
              "      <td>12339</td>\n",
              "      <td>1219.1272</td>\n",
              "      <td>283.2577</td>\n",
              "      <td>2.5500</td>\n",
              "      <td>1214.1288</td>\n",
              "      <td>1224.1257</td>\n",
              "    </tr>\n",
              "    <tr>\n",
              "      <th>in-law</th>\n",
              "      <td>136</td>\n",
              "      <td>694.7868</td>\n",
              "      <td>282.2230</td>\n",
              "      <td>24.2004</td>\n",
              "      <td>646.9258</td>\n",
              "      <td>742.6478</td>\n",
              "    </tr>\n",
              "    <tr>\n",
              "      <th>land</th>\n",
              "      <td>4</td>\n",
              "      <td>475.0000</td>\n",
              "      <td>287.2281</td>\n",
              "      <td>143.6141</td>\n",
              "      <td>17.9559</td>\n",
              "      <td>932.0441</td>\n",
              "    </tr>\n",
              "    <tr>\n",
              "      <th>loft</th>\n",
              "      <td>488</td>\n",
              "      <td>960.3197</td>\n",
              "      <td>262.2597</td>\n",
              "      <td>11.8719</td>\n",
              "      <td>936.9931</td>\n",
              "      <td>983.6462</td>\n",
              "    </tr>\n",
              "    <tr>\n",
              "      <th>manufactured</th>\n",
              "      <td>3462</td>\n",
              "      <td>1109.7741</td>\n",
              "      <td>245.7691</td>\n",
              "      <td>4.1770</td>\n",
              "      <td>1101.5845</td>\n",
              "      <td>1117.9637</td>\n",
              "    </tr>\n",
              "    <tr>\n",
              "      <th>townhouse</th>\n",
              "      <td>10952</td>\n",
              "      <td>1177.1885</td>\n",
              "      <td>242.7601</td>\n",
              "      <td>2.3197</td>\n",
              "      <td>1172.6414</td>\n",
              "      <td>1181.7355</td>\n",
              "    </tr>\n",
              "  </tbody>\n",
              "</table>\n",
              "</div>"
            ],
            "text/plain": [
              "                      N       Mean        SD        SE  95% Conf.   Interval\n",
              "type                                                                        \n",
              "apartment        175759   886.7148  243.5299    0.5809   885.5762   887.8533\n",
              "assisted living       1   500.0000       NaN       NaN        NaN        NaN\n",
              "condo              3925   972.7929  294.1245    4.6947   963.5885   981.9972\n",
              "cottage/cabin       530   750.5528  290.9901   12.6398   725.7225   775.3832\n",
              "duplex             3870  1081.0129  273.7401    4.4003  1072.3858  1089.6401\n",
              "flat                389   952.9537  301.8335   15.3036   922.8654   983.0420\n",
              "house             12339  1219.1272  283.2577    2.5500  1214.1288  1224.1257\n",
              "in-law              136   694.7868  282.2230   24.2004   646.9258   742.6478\n",
              "land                  4   475.0000  287.2281  143.6141    17.9559   932.0441\n",
              "loft                488   960.3197  262.2597   11.8719   936.9931   983.6462\n",
              "manufactured       3462  1109.7741  245.7691    4.1770  1101.5845  1117.9637\n",
              "townhouse         10952  1177.1885  242.7601    2.3197  1172.6414  1181.7355"
            ]
          },
          "metadata": {
            "tags": []
          },
          "execution_count": 339
        }
      ]
    },
    {
      "cell_type": "markdown",
      "metadata": {
        "id": "vh7ZKMWIpRLY"
      },
      "source": [
        "# 6.0 Multivariate Analysis"
      ]
    },
    {
      "cell_type": "code",
      "metadata": {
        "colab": {
          "base_uri": "https://localhost:8080/",
          "height": 583
        },
        "id": "jtJ9ry32vGsj",
        "outputId": "8019024c-1c3a-4d64-8c8b-61087cadbee8"
      },
      "source": [
        "#we first make a copy of the original data frame for label encoding\n",
        "df1=df.copy()\n",
        "df1"
      ],
      "execution_count": null,
      "outputs": [
        {
          "output_type": "execute_result",
          "data": {
            "text/html": [
              "<div>\n",
              "<style scoped>\n",
              "    .dataframe tbody tr th:only-of-type {\n",
              "        vertical-align: middle;\n",
              "    }\n",
              "\n",
              "    .dataframe tbody tr th {\n",
              "        vertical-align: top;\n",
              "    }\n",
              "\n",
              "    .dataframe thead th {\n",
              "        text-align: right;\n",
              "    }\n",
              "</style>\n",
              "<table border=\"1\" class=\"dataframe\">\n",
              "  <thead>\n",
              "    <tr style=\"text-align: right;\">\n",
              "      <th></th>\n",
              "      <th>id</th>\n",
              "      <th>region</th>\n",
              "      <th>price</th>\n",
              "      <th>type</th>\n",
              "      <th>sqfeet</th>\n",
              "      <th>number_of_bedrooms</th>\n",
              "      <th>number_of_bathrooms</th>\n",
              "      <th>cats_allowed</th>\n",
              "      <th>dogs_allowed</th>\n",
              "      <th>smoking_allowed</th>\n",
              "      <th>wheelchair_access</th>\n",
              "      <th>electric_vehicle_charge</th>\n",
              "      <th>comes_furnished</th>\n",
              "      <th>laundry_options</th>\n",
              "      <th>parking_options</th>\n",
              "      <th>latitude</th>\n",
              "      <th>longitude</th>\n",
              "      <th>state</th>\n",
              "    </tr>\n",
              "  </thead>\n",
              "  <tbody>\n",
              "    <tr>\n",
              "      <th>0</th>\n",
              "      <td>7049044568</td>\n",
              "      <td>reno / tahoe</td>\n",
              "      <td>1148</td>\n",
              "      <td>apartment</td>\n",
              "      <td>1078</td>\n",
              "      <td>3</td>\n",
              "      <td>2</td>\n",
              "      <td>1</td>\n",
              "      <td>1</td>\n",
              "      <td>0</td>\n",
              "      <td>0</td>\n",
              "      <td>0</td>\n",
              "      <td>0</td>\n",
              "      <td>w/d in unit</td>\n",
              "      <td>carport</td>\n",
              "      <td>39.5483</td>\n",
              "      <td>-119.796</td>\n",
              "      <td>California</td>\n",
              "    </tr>\n",
              "    <tr>\n",
              "      <th>1</th>\n",
              "      <td>7049047186</td>\n",
              "      <td>reno / tahoe</td>\n",
              "      <td>1200</td>\n",
              "      <td>condo</td>\n",
              "      <td>1001</td>\n",
              "      <td>2</td>\n",
              "      <td>2</td>\n",
              "      <td>0</td>\n",
              "      <td>0</td>\n",
              "      <td>0</td>\n",
              "      <td>0</td>\n",
              "      <td>0</td>\n",
              "      <td>0</td>\n",
              "      <td>w/d hookups</td>\n",
              "      <td>carport</td>\n",
              "      <td>39.5026</td>\n",
              "      <td>-119.789</td>\n",
              "      <td>California</td>\n",
              "    </tr>\n",
              "    <tr>\n",
              "      <th>2</th>\n",
              "      <td>7043634882</td>\n",
              "      <td>reno / tahoe</td>\n",
              "      <td>1813</td>\n",
              "      <td>apartment</td>\n",
              "      <td>1683</td>\n",
              "      <td>2</td>\n",
              "      <td>2</td>\n",
              "      <td>1</td>\n",
              "      <td>1</td>\n",
              "      <td>1</td>\n",
              "      <td>0</td>\n",
              "      <td>0</td>\n",
              "      <td>0</td>\n",
              "      <td>w/d in unit</td>\n",
              "      <td>attached garage</td>\n",
              "      <td>39.6269</td>\n",
              "      <td>-119.708</td>\n",
              "      <td>California</td>\n",
              "    </tr>\n",
              "    <tr>\n",
              "      <th>3</th>\n",
              "      <td>7049045324</td>\n",
              "      <td>reno / tahoe</td>\n",
              "      <td>1095</td>\n",
              "      <td>apartment</td>\n",
              "      <td>708</td>\n",
              "      <td>1</td>\n",
              "      <td>1</td>\n",
              "      <td>1</td>\n",
              "      <td>1</td>\n",
              "      <td>1</td>\n",
              "      <td>0</td>\n",
              "      <td>0</td>\n",
              "      <td>0</td>\n",
              "      <td>w/d in unit</td>\n",
              "      <td>carport</td>\n",
              "      <td>39.4477</td>\n",
              "      <td>-119.771</td>\n",
              "      <td>California</td>\n",
              "    </tr>\n",
              "    <tr>\n",
              "      <th>6</th>\n",
              "      <td>7049020738</td>\n",
              "      <td>reno / tahoe</td>\n",
              "      <td>935</td>\n",
              "      <td>apartment</td>\n",
              "      <td>661</td>\n",
              "      <td>1</td>\n",
              "      <td>1</td>\n",
              "      <td>1</td>\n",
              "      <td>1</td>\n",
              "      <td>1</td>\n",
              "      <td>0</td>\n",
              "      <td>0</td>\n",
              "      <td>0</td>\n",
              "      <td>laundry on site</td>\n",
              "      <td>off-street parking</td>\n",
              "      <td>39.5118</td>\n",
              "      <td>-119.802</td>\n",
              "      <td>California</td>\n",
              "    </tr>\n",
              "    <tr>\n",
              "      <th>...</th>\n",
              "      <td>...</td>\n",
              "      <td>...</td>\n",
              "      <td>...</td>\n",
              "      <td>...</td>\n",
              "      <td>...</td>\n",
              "      <td>...</td>\n",
              "      <td>...</td>\n",
              "      <td>...</td>\n",
              "      <td>...</td>\n",
              "      <td>...</td>\n",
              "      <td>...</td>\n",
              "      <td>...</td>\n",
              "      <td>...</td>\n",
              "      <td>...</td>\n",
              "      <td>...</td>\n",
              "      <td>...</td>\n",
              "      <td>...</td>\n",
              "      <td>...</td>\n",
              "    </tr>\n",
              "    <tr>\n",
              "      <th>384970</th>\n",
              "      <td>7049202533</td>\n",
              "      <td>sacramento</td>\n",
              "      <td>1960</td>\n",
              "      <td>apartment</td>\n",
              "      <td>1198</td>\n",
              "      <td>2</td>\n",
              "      <td>2</td>\n",
              "      <td>1</td>\n",
              "      <td>1</td>\n",
              "      <td>1</td>\n",
              "      <td>0</td>\n",
              "      <td>0</td>\n",
              "      <td>0</td>\n",
              "      <td>w/d in unit</td>\n",
              "      <td>carport</td>\n",
              "      <td>38.4962</td>\n",
              "      <td>-121.530</td>\n",
              "      <td>California</td>\n",
              "    </tr>\n",
              "    <tr>\n",
              "      <th>384972</th>\n",
              "      <td>7049053337</td>\n",
              "      <td>reno / tahoe</td>\n",
              "      <td>1295</td>\n",
              "      <td>apartment</td>\n",
              "      <td>957</td>\n",
              "      <td>2</td>\n",
              "      <td>2</td>\n",
              "      <td>1</td>\n",
              "      <td>1</td>\n",
              "      <td>1</td>\n",
              "      <td>0</td>\n",
              "      <td>0</td>\n",
              "      <td>0</td>\n",
              "      <td>w/d in unit</td>\n",
              "      <td>carport</td>\n",
              "      <td>39.4477</td>\n",
              "      <td>-119.771</td>\n",
              "      <td>California</td>\n",
              "    </tr>\n",
              "    <tr>\n",
              "      <th>384974</th>\n",
              "      <td>7049050454</td>\n",
              "      <td>reno / tahoe</td>\n",
              "      <td>1249</td>\n",
              "      <td>apartment</td>\n",
              "      <td>840</td>\n",
              "      <td>2</td>\n",
              "      <td>1</td>\n",
              "      <td>1</td>\n",
              "      <td>1</td>\n",
              "      <td>1</td>\n",
              "      <td>0</td>\n",
              "      <td>0</td>\n",
              "      <td>0</td>\n",
              "      <td>laundry on site</td>\n",
              "      <td>off-street parking</td>\n",
              "      <td>39.5358</td>\n",
              "      <td>-119.746</td>\n",
              "      <td>California</td>\n",
              "    </tr>\n",
              "    <tr>\n",
              "      <th>384975</th>\n",
              "      <td>7049050149</td>\n",
              "      <td>reno / tahoe</td>\n",
              "      <td>1429</td>\n",
              "      <td>apartment</td>\n",
              "      <td>976</td>\n",
              "      <td>2</td>\n",
              "      <td>2</td>\n",
              "      <td>1</td>\n",
              "      <td>1</td>\n",
              "      <td>1</td>\n",
              "      <td>0</td>\n",
              "      <td>0</td>\n",
              "      <td>0</td>\n",
              "      <td>w/d in unit</td>\n",
              "      <td>carport</td>\n",
              "      <td>39.5585</td>\n",
              "      <td>-119.703</td>\n",
              "      <td>California</td>\n",
              "    </tr>\n",
              "    <tr>\n",
              "      <th>384976</th>\n",
              "      <td>7049050010</td>\n",
              "      <td>reno / tahoe</td>\n",
              "      <td>1295</td>\n",
              "      <td>apartment</td>\n",
              "      <td>957</td>\n",
              "      <td>2</td>\n",
              "      <td>2</td>\n",
              "      <td>1</td>\n",
              "      <td>1</td>\n",
              "      <td>1</td>\n",
              "      <td>0</td>\n",
              "      <td>0</td>\n",
              "      <td>0</td>\n",
              "      <td>w/d in unit</td>\n",
              "      <td>carport</td>\n",
              "      <td>39.4477</td>\n",
              "      <td>-119.771</td>\n",
              "      <td>California</td>\n",
              "    </tr>\n",
              "  </tbody>\n",
              "</table>\n",
              "<p>211855 rows × 18 columns</p>\n",
              "</div>"
            ],
            "text/plain": [
              "                id        region  price  ... latitude  longitude       state\n",
              "0       7049044568  reno / tahoe   1148  ...  39.5483   -119.796  California\n",
              "1       7049047186  reno / tahoe   1200  ...  39.5026   -119.789  California\n",
              "2       7043634882  reno / tahoe   1813  ...  39.6269   -119.708  California\n",
              "3       7049045324  reno / tahoe   1095  ...  39.4477   -119.771  California\n",
              "6       7049020738  reno / tahoe    935  ...  39.5118   -119.802  California\n",
              "...            ...           ...    ...  ...      ...        ...         ...\n",
              "384970  7049202533    sacramento   1960  ...  38.4962   -121.530  California\n",
              "384972  7049053337  reno / tahoe   1295  ...  39.4477   -119.771  California\n",
              "384974  7049050454  reno / tahoe   1249  ...  39.5358   -119.746  California\n",
              "384975  7049050149  reno / tahoe   1429  ...  39.5585   -119.703  California\n",
              "384976  7049050010  reno / tahoe   1295  ...  39.4477   -119.771  California\n",
              "\n",
              "[211855 rows x 18 columns]"
            ]
          },
          "metadata": {
            "tags": []
          },
          "execution_count": 340
        }
      ]
    },
    {
      "cell_type": "code",
      "metadata": {
        "id": "I6omUpzkpfM5"
      },
      "source": [
        "# creating instance of labelencoder\n",
        "from sklearn.preprocessing import LabelEncoder\n",
        "labelencoder = LabelEncoder()\n",
        "# Assigning numerical values and storing in another column\n",
        "df1 ['type'] = labelencoder.fit_transform(df1['type'])\n",
        "df1 ['region'] = labelencoder.fit_transform(df1['region'])\n",
        "df1 ['laundry_options'] = labelencoder.fit_transform(df1['laundry_options'])\n",
        "df1 ['parking_options'] = labelencoder.fit_transform(df1['parking_options'])\n",
        "df1 ['state'] = labelencoder.fit_transform(df1['state'])"
      ],
      "execution_count": null,
      "outputs": []
    },
    {
      "cell_type": "code",
      "metadata": {
        "id": "6JEvE3SexW9M",
        "colab": {
          "base_uri": "https://localhost:8080/",
          "height": 128
        },
        "outputId": "4718bf2f-7df6-439e-88d4-9bd555c4cd3b"
      },
      "source": [
        "df1.tail(2)"
      ],
      "execution_count": null,
      "outputs": [
        {
          "output_type": "execute_result",
          "data": {
            "text/html": [
              "<div>\n",
              "<style scoped>\n",
              "    .dataframe tbody tr th:only-of-type {\n",
              "        vertical-align: middle;\n",
              "    }\n",
              "\n",
              "    .dataframe tbody tr th {\n",
              "        vertical-align: top;\n",
              "    }\n",
              "\n",
              "    .dataframe thead th {\n",
              "        text-align: right;\n",
              "    }\n",
              "</style>\n",
              "<table border=\"1\" class=\"dataframe\">\n",
              "  <thead>\n",
              "    <tr style=\"text-align: right;\">\n",
              "      <th></th>\n",
              "      <th>id</th>\n",
              "      <th>region</th>\n",
              "      <th>price</th>\n",
              "      <th>type</th>\n",
              "      <th>sqfeet</th>\n",
              "      <th>number_of_bedrooms</th>\n",
              "      <th>number_of_bathrooms</th>\n",
              "      <th>cats_allowed</th>\n",
              "      <th>dogs_allowed</th>\n",
              "      <th>smoking_allowed</th>\n",
              "      <th>wheelchair_access</th>\n",
              "      <th>electric_vehicle_charge</th>\n",
              "      <th>comes_furnished</th>\n",
              "      <th>laundry_options</th>\n",
              "      <th>parking_options</th>\n",
              "      <th>latitude</th>\n",
              "      <th>longitude</th>\n",
              "      <th>state</th>\n",
              "    </tr>\n",
              "  </thead>\n",
              "  <tbody>\n",
              "    <tr>\n",
              "      <th>384975</th>\n",
              "      <td>7049050149</td>\n",
              "      <td>286</td>\n",
              "      <td>1429</td>\n",
              "      <td>0</td>\n",
              "      <td>976</td>\n",
              "      <td>2</td>\n",
              "      <td>2</td>\n",
              "      <td>1</td>\n",
              "      <td>1</td>\n",
              "      <td>1</td>\n",
              "      <td>0</td>\n",
              "      <td>0</td>\n",
              "      <td>0</td>\n",
              "      <td>4</td>\n",
              "      <td>1</td>\n",
              "      <td>39.5585</td>\n",
              "      <td>-119.703</td>\n",
              "      <td>4</td>\n",
              "    </tr>\n",
              "    <tr>\n",
              "      <th>384976</th>\n",
              "      <td>7049050010</td>\n",
              "      <td>286</td>\n",
              "      <td>1295</td>\n",
              "      <td>0</td>\n",
              "      <td>957</td>\n",
              "      <td>2</td>\n",
              "      <td>2</td>\n",
              "      <td>1</td>\n",
              "      <td>1</td>\n",
              "      <td>1</td>\n",
              "      <td>0</td>\n",
              "      <td>0</td>\n",
              "      <td>0</td>\n",
              "      <td>4</td>\n",
              "      <td>1</td>\n",
              "      <td>39.4477</td>\n",
              "      <td>-119.771</td>\n",
              "      <td>4</td>\n",
              "    </tr>\n",
              "  </tbody>\n",
              "</table>\n",
              "</div>"
            ],
            "text/plain": [
              "                id  region  price  ...  latitude  longitude  state\n",
              "384975  7049050149     286   1429  ...   39.5585   -119.703      4\n",
              "384976  7049050010     286   1295  ...   39.4477   -119.771      4\n",
              "\n",
              "[2 rows x 18 columns]"
            ]
          },
          "metadata": {
            "tags": []
          },
          "execution_count": 342
        }
      ]
    },
    {
      "cell_type": "code",
      "metadata": {
        "id": "iyRwATL8yF3t",
        "colab": {
          "base_uri": "https://localhost:8080/",
          "height": 468
        },
        "outputId": "4f548a72-c983-4fa6-fc31-6bd589cddb08"
      },
      "source": [
        "# Separating our target label (type) from the other features\n",
        "feat = df1.drop(['type','id','latitude','longitude'], 1)\n",
        "type_label = df1['type']\n",
        "# Subject our features to LDA model\n",
        "# Import Linear Discriminant Analysis method from sklearn library\n",
        "from sklearn.discriminant_analysis import LinearDiscriminantAnalysis as LDA\n",
        "# Create an instance of LDA\n",
        "lda = LDA()\n",
        "lda = lda.fit(feat, type_label)\n",
        "lda_feat = lda.transform(feat)\n",
        "#lda_feat = lda.transform(feat)\n",
        "# Display the coeficients of the reduced columns\n",
        "lda.coef_\n",
        "# Since the coefficients are in an array, we need to create a dataframe so that we can extract the name of the columns\n",
        "f_imp = pd.DataFrame(index=feat.columns.values, data=lda.coef_[0].T)\n",
        "f_imp.sort_values(0, ascending=False)"
      ],
      "execution_count": null,
      "outputs": [
        {
          "output_type": "execute_result",
          "data": {
            "text/html": [
              "<div>\n",
              "<style scoped>\n",
              "    .dataframe tbody tr th:only-of-type {\n",
              "        vertical-align: middle;\n",
              "    }\n",
              "\n",
              "    .dataframe tbody tr th {\n",
              "        vertical-align: top;\n",
              "    }\n",
              "\n",
              "    .dataframe thead th {\n",
              "        text-align: right;\n",
              "    }\n",
              "</style>\n",
              "<table border=\"1\" class=\"dataframe\">\n",
              "  <thead>\n",
              "    <tr style=\"text-align: right;\">\n",
              "      <th></th>\n",
              "      <th>0</th>\n",
              "    </tr>\n",
              "  </thead>\n",
              "  <tbody>\n",
              "    <tr>\n",
              "      <th>cats_allowed</th>\n",
              "      <td>0.289973</td>\n",
              "    </tr>\n",
              "    <tr>\n",
              "      <th>number_of_bathrooms</th>\n",
              "      <td>0.245740</td>\n",
              "    </tr>\n",
              "    <tr>\n",
              "      <th>wheelchair_access</th>\n",
              "      <td>0.079220</td>\n",
              "    </tr>\n",
              "    <tr>\n",
              "      <th>smoking_allowed</th>\n",
              "      <td>0.059412</td>\n",
              "    </tr>\n",
              "    <tr>\n",
              "      <th>parking_options</th>\n",
              "      <td>0.038358</td>\n",
              "    </tr>\n",
              "    <tr>\n",
              "      <th>dogs_allowed</th>\n",
              "      <td>0.004318</td>\n",
              "    </tr>\n",
              "    <tr>\n",
              "      <th>state</th>\n",
              "      <td>0.000556</td>\n",
              "    </tr>\n",
              "    <tr>\n",
              "      <th>price</th>\n",
              "      <td>0.000105</td>\n",
              "    </tr>\n",
              "    <tr>\n",
              "      <th>region</th>\n",
              "      <td>-0.000020</td>\n",
              "    </tr>\n",
              "    <tr>\n",
              "      <th>sqfeet</th>\n",
              "      <td>-0.000641</td>\n",
              "    </tr>\n",
              "    <tr>\n",
              "      <th>laundry_options</th>\n",
              "      <td>-0.038032</td>\n",
              "    </tr>\n",
              "    <tr>\n",
              "      <th>electric_vehicle_charge</th>\n",
              "      <td>-0.087588</td>\n",
              "    </tr>\n",
              "    <tr>\n",
              "      <th>number_of_bedrooms</th>\n",
              "      <td>-0.170367</td>\n",
              "    </tr>\n",
              "    <tr>\n",
              "      <th>comes_furnished</th>\n",
              "      <td>-0.185109</td>\n",
              "    </tr>\n",
              "  </tbody>\n",
              "</table>\n",
              "</div>"
            ],
            "text/plain": [
              "                                0\n",
              "cats_allowed             0.289973\n",
              "number_of_bathrooms      0.245740\n",
              "wheelchair_access        0.079220\n",
              "smoking_allowed          0.059412\n",
              "parking_options          0.038358\n",
              "dogs_allowed             0.004318\n",
              "state                    0.000556\n",
              "price                    0.000105\n",
              "region                  -0.000020\n",
              "sqfeet                  -0.000641\n",
              "laundry_options         -0.038032\n",
              "electric_vehicle_charge -0.087588\n",
              "number_of_bedrooms      -0.170367\n",
              "comes_furnished         -0.185109"
            ]
          },
          "metadata": {
            "tags": []
          },
          "execution_count": 343
        }
      ]
    },
    {
      "cell_type": "markdown",
      "metadata": {
        "id": "Rxzxp1S_E1Wm"
      },
      "source": [
        "# 7.0 Sampling"
      ]
    },
    {
      "cell_type": "markdown",
      "metadata": {
        "id": "JMSPEw0J8PyT"
      },
      "source": [
        "For hypothesis testing,our population had to be  we first filter the types of houses we want to investigate,ie.the most popular type of houses (the apartment and house)"
      ]
    },
    {
      "cell_type": "code",
      "metadata": {
        "colab": {
          "base_uri": "https://localhost:8080/",
          "height": 583
        },
        "id": "nozi13FnDE9I",
        "outputId": "42c99c7f-52ce-4b93-a004-47b94b593dd0"
      },
      "source": [
        "apart_house=df[df['type'].isin(['apartment','house'])]\n",
        "apart_house"
      ],
      "execution_count": null,
      "outputs": [
        {
          "output_type": "execute_result",
          "data": {
            "text/html": [
              "<div>\n",
              "<style scoped>\n",
              "    .dataframe tbody tr th:only-of-type {\n",
              "        vertical-align: middle;\n",
              "    }\n",
              "\n",
              "    .dataframe tbody tr th {\n",
              "        vertical-align: top;\n",
              "    }\n",
              "\n",
              "    .dataframe thead th {\n",
              "        text-align: right;\n",
              "    }\n",
              "</style>\n",
              "<table border=\"1\" class=\"dataframe\">\n",
              "  <thead>\n",
              "    <tr style=\"text-align: right;\">\n",
              "      <th></th>\n",
              "      <th>id</th>\n",
              "      <th>region</th>\n",
              "      <th>price</th>\n",
              "      <th>type</th>\n",
              "      <th>sqfeet</th>\n",
              "      <th>number_of_bedrooms</th>\n",
              "      <th>number_of_bathrooms</th>\n",
              "      <th>cats_allowed</th>\n",
              "      <th>dogs_allowed</th>\n",
              "      <th>smoking_allowed</th>\n",
              "      <th>wheelchair_access</th>\n",
              "      <th>electric_vehicle_charge</th>\n",
              "      <th>comes_furnished</th>\n",
              "      <th>laundry_options</th>\n",
              "      <th>parking_options</th>\n",
              "      <th>latitude</th>\n",
              "      <th>longitude</th>\n",
              "      <th>state</th>\n",
              "    </tr>\n",
              "  </thead>\n",
              "  <tbody>\n",
              "    <tr>\n",
              "      <th>0</th>\n",
              "      <td>7049044568</td>\n",
              "      <td>reno / tahoe</td>\n",
              "      <td>1148</td>\n",
              "      <td>apartment</td>\n",
              "      <td>1078</td>\n",
              "      <td>3</td>\n",
              "      <td>2</td>\n",
              "      <td>1</td>\n",
              "      <td>1</td>\n",
              "      <td>0</td>\n",
              "      <td>0</td>\n",
              "      <td>0</td>\n",
              "      <td>0</td>\n",
              "      <td>w/d in unit</td>\n",
              "      <td>carport</td>\n",
              "      <td>39.5483</td>\n",
              "      <td>-119.796</td>\n",
              "      <td>California</td>\n",
              "    </tr>\n",
              "    <tr>\n",
              "      <th>2</th>\n",
              "      <td>7043634882</td>\n",
              "      <td>reno / tahoe</td>\n",
              "      <td>1813</td>\n",
              "      <td>apartment</td>\n",
              "      <td>1683</td>\n",
              "      <td>2</td>\n",
              "      <td>2</td>\n",
              "      <td>1</td>\n",
              "      <td>1</td>\n",
              "      <td>1</td>\n",
              "      <td>0</td>\n",
              "      <td>0</td>\n",
              "      <td>0</td>\n",
              "      <td>w/d in unit</td>\n",
              "      <td>attached garage</td>\n",
              "      <td>39.6269</td>\n",
              "      <td>-119.708</td>\n",
              "      <td>California</td>\n",
              "    </tr>\n",
              "    <tr>\n",
              "      <th>3</th>\n",
              "      <td>7049045324</td>\n",
              "      <td>reno / tahoe</td>\n",
              "      <td>1095</td>\n",
              "      <td>apartment</td>\n",
              "      <td>708</td>\n",
              "      <td>1</td>\n",
              "      <td>1</td>\n",
              "      <td>1</td>\n",
              "      <td>1</td>\n",
              "      <td>1</td>\n",
              "      <td>0</td>\n",
              "      <td>0</td>\n",
              "      <td>0</td>\n",
              "      <td>w/d in unit</td>\n",
              "      <td>carport</td>\n",
              "      <td>39.4477</td>\n",
              "      <td>-119.771</td>\n",
              "      <td>California</td>\n",
              "    </tr>\n",
              "    <tr>\n",
              "      <th>6</th>\n",
              "      <td>7049020738</td>\n",
              "      <td>reno / tahoe</td>\n",
              "      <td>935</td>\n",
              "      <td>apartment</td>\n",
              "      <td>661</td>\n",
              "      <td>1</td>\n",
              "      <td>1</td>\n",
              "      <td>1</td>\n",
              "      <td>1</td>\n",
              "      <td>1</td>\n",
              "      <td>0</td>\n",
              "      <td>0</td>\n",
              "      <td>0</td>\n",
              "      <td>laundry on site</td>\n",
              "      <td>off-street parking</td>\n",
              "      <td>39.5118</td>\n",
              "      <td>-119.802</td>\n",
              "      <td>California</td>\n",
              "    </tr>\n",
              "    <tr>\n",
              "      <th>7</th>\n",
              "      <td>7049041899</td>\n",
              "      <td>reno / tahoe</td>\n",
              "      <td>1095</td>\n",
              "      <td>apartment</td>\n",
              "      <td>708</td>\n",
              "      <td>1</td>\n",
              "      <td>1</td>\n",
              "      <td>1</td>\n",
              "      <td>1</td>\n",
              "      <td>1</td>\n",
              "      <td>0</td>\n",
              "      <td>0</td>\n",
              "      <td>0</td>\n",
              "      <td>w/d in unit</td>\n",
              "      <td>carport</td>\n",
              "      <td>39.4477</td>\n",
              "      <td>-119.771</td>\n",
              "      <td>California</td>\n",
              "    </tr>\n",
              "    <tr>\n",
              "      <th>...</th>\n",
              "      <td>...</td>\n",
              "      <td>...</td>\n",
              "      <td>...</td>\n",
              "      <td>...</td>\n",
              "      <td>...</td>\n",
              "      <td>...</td>\n",
              "      <td>...</td>\n",
              "      <td>...</td>\n",
              "      <td>...</td>\n",
              "      <td>...</td>\n",
              "      <td>...</td>\n",
              "      <td>...</td>\n",
              "      <td>...</td>\n",
              "      <td>...</td>\n",
              "      <td>...</td>\n",
              "      <td>...</td>\n",
              "      <td>...</td>\n",
              "      <td>...</td>\n",
              "    </tr>\n",
              "    <tr>\n",
              "      <th>384970</th>\n",
              "      <td>7049202533</td>\n",
              "      <td>sacramento</td>\n",
              "      <td>1960</td>\n",
              "      <td>apartment</td>\n",
              "      <td>1198</td>\n",
              "      <td>2</td>\n",
              "      <td>2</td>\n",
              "      <td>1</td>\n",
              "      <td>1</td>\n",
              "      <td>1</td>\n",
              "      <td>0</td>\n",
              "      <td>0</td>\n",
              "      <td>0</td>\n",
              "      <td>w/d in unit</td>\n",
              "      <td>carport</td>\n",
              "      <td>38.4962</td>\n",
              "      <td>-121.530</td>\n",
              "      <td>California</td>\n",
              "    </tr>\n",
              "    <tr>\n",
              "      <th>384972</th>\n",
              "      <td>7049053337</td>\n",
              "      <td>reno / tahoe</td>\n",
              "      <td>1295</td>\n",
              "      <td>apartment</td>\n",
              "      <td>957</td>\n",
              "      <td>2</td>\n",
              "      <td>2</td>\n",
              "      <td>1</td>\n",
              "      <td>1</td>\n",
              "      <td>1</td>\n",
              "      <td>0</td>\n",
              "      <td>0</td>\n",
              "      <td>0</td>\n",
              "      <td>w/d in unit</td>\n",
              "      <td>carport</td>\n",
              "      <td>39.4477</td>\n",
              "      <td>-119.771</td>\n",
              "      <td>California</td>\n",
              "    </tr>\n",
              "    <tr>\n",
              "      <th>384974</th>\n",
              "      <td>7049050454</td>\n",
              "      <td>reno / tahoe</td>\n",
              "      <td>1249</td>\n",
              "      <td>apartment</td>\n",
              "      <td>840</td>\n",
              "      <td>2</td>\n",
              "      <td>1</td>\n",
              "      <td>1</td>\n",
              "      <td>1</td>\n",
              "      <td>1</td>\n",
              "      <td>0</td>\n",
              "      <td>0</td>\n",
              "      <td>0</td>\n",
              "      <td>laundry on site</td>\n",
              "      <td>off-street parking</td>\n",
              "      <td>39.5358</td>\n",
              "      <td>-119.746</td>\n",
              "      <td>California</td>\n",
              "    </tr>\n",
              "    <tr>\n",
              "      <th>384975</th>\n",
              "      <td>7049050149</td>\n",
              "      <td>reno / tahoe</td>\n",
              "      <td>1429</td>\n",
              "      <td>apartment</td>\n",
              "      <td>976</td>\n",
              "      <td>2</td>\n",
              "      <td>2</td>\n",
              "      <td>1</td>\n",
              "      <td>1</td>\n",
              "      <td>1</td>\n",
              "      <td>0</td>\n",
              "      <td>0</td>\n",
              "      <td>0</td>\n",
              "      <td>w/d in unit</td>\n",
              "      <td>carport</td>\n",
              "      <td>39.5585</td>\n",
              "      <td>-119.703</td>\n",
              "      <td>California</td>\n",
              "    </tr>\n",
              "    <tr>\n",
              "      <th>384976</th>\n",
              "      <td>7049050010</td>\n",
              "      <td>reno / tahoe</td>\n",
              "      <td>1295</td>\n",
              "      <td>apartment</td>\n",
              "      <td>957</td>\n",
              "      <td>2</td>\n",
              "      <td>2</td>\n",
              "      <td>1</td>\n",
              "      <td>1</td>\n",
              "      <td>1</td>\n",
              "      <td>0</td>\n",
              "      <td>0</td>\n",
              "      <td>0</td>\n",
              "      <td>w/d in unit</td>\n",
              "      <td>carport</td>\n",
              "      <td>39.4477</td>\n",
              "      <td>-119.771</td>\n",
              "      <td>California</td>\n",
              "    </tr>\n",
              "  </tbody>\n",
              "</table>\n",
              "<p>188098 rows × 18 columns</p>\n",
              "</div>"
            ],
            "text/plain": [
              "                id        region  price  ... latitude  longitude       state\n",
              "0       7049044568  reno / tahoe   1148  ...  39.5483   -119.796  California\n",
              "2       7043634882  reno / tahoe   1813  ...  39.6269   -119.708  California\n",
              "3       7049045324  reno / tahoe   1095  ...  39.4477   -119.771  California\n",
              "6       7049020738  reno / tahoe    935  ...  39.5118   -119.802  California\n",
              "7       7049041899  reno / tahoe   1095  ...  39.4477   -119.771  California\n",
              "...            ...           ...    ...  ...      ...        ...         ...\n",
              "384970  7049202533    sacramento   1960  ...  38.4962   -121.530  California\n",
              "384972  7049053337  reno / tahoe   1295  ...  39.4477   -119.771  California\n",
              "384974  7049050454  reno / tahoe   1249  ...  39.5358   -119.746  California\n",
              "384975  7049050149  reno / tahoe   1429  ...  39.5585   -119.703  California\n",
              "384976  7049050010  reno / tahoe   1295  ...  39.4477   -119.771  California\n",
              "\n",
              "[188098 rows x 18 columns]"
            ]
          },
          "metadata": {
            "tags": []
          },
          "execution_count": 344
        }
      ]
    },
    {
      "cell_type": "markdown",
      "metadata": {
        "id": "YZp9cIog_6rP"
      },
      "source": [
        "checking for normality using Shapiro test"
      ]
    },
    {
      "cell_type": "code",
      "metadata": {
        "colab": {
          "base_uri": "https://localhost:8080/"
        },
        "id": "8qSJRua_SuV5",
        "outputId": "47bb3cb9-60a8-4f3c-c127-d7ded0769558"
      },
      "source": [
        "\n",
        "# imporing the shapiro function\n",
        "from scipy.stats import shapiro \n",
        "\n",
        "# testing for normality\n",
        "stat, p = shapiro(Tex_pop['price'])\n",
        "print('Statistics=%.3f, p=%.3f' % (stat, p))\n",
        "\n",
        "# interpreting\n",
        "alpha = 0.05\n",
        "if p > alpha:\n",
        "\tprint('Sample looks Gaussian')\n",
        "else:\n",
        "\tprint('Sample does not look Gaussian')"
      ],
      "execution_count": null,
      "outputs": [
        {
          "output_type": "stream",
          "text": [
            "Statistics=0.969, p=0.000\n",
            "Sample does not look Gaussian\n"
          ],
          "name": "stdout"
        },
        {
          "output_type": "stream",
          "text": [
            "/usr/local/lib/python3.7/dist-packages/scipy/stats/morestats.py:1676: UserWarning: p-value may not be accurate for N > 5000.\n",
            "  warnings.warn(\"p-value may not be accurate for N > 5000.\")\n"
          ],
          "name": "stderr"
        }
      ]
    },
    {
      "cell_type": "code",
      "metadata": {
        "colab": {
          "base_uri": "https://localhost:8080/"
        },
        "id": "iVqcEQaZED1n",
        "outputId": "b70a5cb7-3d28-40c6-8a7a-315e4ba8bb90"
      },
      "source": [
        "\n",
        "# imporing the shapiro function\n",
        "from scipy.stats import shapiro \n",
        "\n",
        "# testing for normality\n",
        "stat, p = shapiro(Tex_pop['price'])\n",
        "print('Statistics=%.3f, p=%.3f' % (stat, p))\n",
        "\n",
        "# interpreting\n",
        "alpha = 0.05\n",
        "if p > alpha:\n",
        "\tprint('Sample looks Gaussian')\n",
        "else:\n",
        "\tprint('Sample does not look Gaussian')"
      ],
      "execution_count": null,
      "outputs": [
        {
          "output_type": "stream",
          "text": [
            "Statistics=0.969, p=0.000\n",
            "Sample does not look Gaussian\n"
          ],
          "name": "stdout"
        },
        {
          "output_type": "stream",
          "text": [
            "/usr/local/lib/python3.7/dist-packages/scipy/stats/morestats.py:1676: UserWarning: p-value may not be accurate for N > 5000.\n",
            "  warnings.warn(\"p-value may not be accurate for N > 5000.\")\n"
          ],
          "name": "stderr"
        }
      ]
    },
    {
      "cell_type": "markdown",
      "metadata": {
        "id": "gkmswcN_4nMR"
      },
      "source": [
        " **checking for the distribution before sampling**"
      ]
    },
    {
      "cell_type": "code",
      "metadata": {
        "id": "y3FHq6uAUVJK",
        "colab": {
          "base_uri": "https://localhost:8080/",
          "height": 483
        },
        "outputId": "42ec623b-492b-47ff-b0e2-81b5ac3bee98"
      },
      "source": [
        "cal_pop=apart_house[apart_house['type']=='apartment']\n",
        "from scipy.stats import norm\n",
        "# Fit a normal distribution to the data:\n",
        "mu, std = norm.fit(cal_pop['price'])\n",
        "\n",
        "# Plot the histogram.\n",
        "plt.hist(cal_pop['price'], bins=25, density=True, alpha=0.6,)"
      ],
      "execution_count": null,
      "outputs": [
        {
          "output_type": "execute_result",
          "data": {
            "text/plain": [
              "(array([6.30748516e-05, 1.50373255e-05, 2.08299139e-05, 2.43405735e-05,\n",
              "        9.76548492e-05, 3.44805288e-04, 7.12546886e-04, 1.02563922e-03,\n",
              "        1.25412465e-03, 1.16647518e-03, 9.89947509e-04, 7.67137644e-04,\n",
              "        7.07339408e-04, 6.42509226e-04, 5.03721148e-04, 4.73119898e-04,\n",
              "        3.49135102e-04, 2.76347425e-04, 2.06017210e-04, 1.69330817e-04,\n",
              "        1.45516842e-04, 9.05165079e-05, 9.99367779e-05, 7.83462211e-05,\n",
              "        6.03833459e-05]),\n",
              " array([   0.  ,   97.24,  194.48,  291.72,  388.96,  486.2 ,  583.44,\n",
              "         680.68,  777.92,  875.16,  972.4 , 1069.64, 1166.88, 1264.12,\n",
              "        1361.36, 1458.6 , 1555.84, 1653.08, 1750.32, 1847.56, 1944.8 ,\n",
              "        2042.04, 2139.28, 2236.52, 2333.76, 2431.  ]),\n",
              " <a list of 25 Patch objects>)"
            ]
          },
          "metadata": {
            "tags": []
          },
          "execution_count": 347
        },
        {
          "output_type": "display_data",
          "data": {
            "image/png": "[encoded data removed]",
            "text/plain": [
              "<Figure size 432x288 with 1 Axes>"
            ]
          },
          "metadata": {
            "tags": [],
            "needs_background": "light"
          }
        }
      ]
    },
    {
      "cell_type": "code",
      "metadata": {
        "colab": {
          "base_uri": "https://localhost:8080/",
          "height": 465
        },
        "id": "Cztvx21mhRs2",
        "outputId": "d1bf66ad-110e-491f-9949-2a50139a28a7"
      },
      "source": [
        "Tex_pop=apart_house[apart_house['type']=='house']\n",
        "from scipy.stats import norm\n",
        "# Fit a normal distribution to the data:\n",
        "mu, std = norm.fit(cal_pop['price'])\n",
        "\n",
        "# Plot the histogram.\n",
        "plt.hist(Tex_pop['price'], bins=25, density=True, alpha=0.6,)"
      ],
      "execution_count": null,
      "outputs": [
        {
          "output_type": "execute_result",
          "data": {
            "text/plain": [
              "(array([2.92426244e-05, 6.68402843e-06, 1.08615462e-05, 1.83810782e-05,\n",
              "        7.85373341e-05, 3.19997861e-04, 4.37803862e-04, 8.85633767e-04,\n",
              "        9.94249229e-04, 1.26996540e-03, 8.67252689e-04, 6.78428886e-04,\n",
              "        8.00412405e-04, 5.89865509e-04, 5.79003963e-04, 6.39160219e-04,\n",
              "        4.83756558e-04, 4.51171919e-04, 3.49240485e-04, 2.11382399e-04,\n",
              "        2.40625023e-04, 9.10698874e-05, 1.16134994e-04, 8.68923696e-05,\n",
              "        7.35243127e-05]),\n",
              " array([   0.,   97.,  194.,  291.,  388.,  485.,  582.,  679.,  776.,\n",
              "         873.,  970., 1067., 1164., 1261., 1358., 1455., 1552., 1649.,\n",
              "        1746., 1843., 1940., 2037., 2134., 2231., 2328., 2425.]),\n",
              " <a list of 25 Patch objects>)"
            ]
          },
          "metadata": {
            "tags": []
          },
          "execution_count": 348
        },
        {
          "output_type": "display_data",
          "data": {
            "image/png": "[encoded data removed]",
            "text/plain": [
              "<Figure size 432x288 with 1 Axes>"
            ]
          },
          "metadata": {
            "tags": [],
            "needs_background": "light"
          }
        }
      ]
    },
    {
      "cell_type": "markdown",
      "metadata": {
        "id": "ociW6GpMfrtF"
      },
      "source": [
        "**Stratified Sampling** \n",
        "\n",
        "This technique will enable us obtain a sample population that best represents the entire population by dividing it into strata.in this case our strata would be the States."
      ]
    },
    {
      "cell_type": "code",
      "metadata": {
        "colab": {
          "base_uri": "https://localhost:8080/"
        },
        "id": "3NmL5_W7E5ET",
        "outputId": "6a8de4e6-52a6-4dfe-8874-8913807c49c7"
      },
      "source": [
        "strat_output=apart_house.groupby(['state']).apply(lambda subset: subset.sample(frac=0.1))\n",
        "strat_output['state'].count()"
      ],
      "execution_count": null,
      "outputs": [
        {
          "output_type": "execute_result",
          "data": {
            "text/plain": [
              "18807"
            ]
          },
          "metadata": {
            "tags": []
          },
          "execution_count": 349
        }
      ]
    },
    {
      "cell_type": "markdown",
      "metadata": {
        "id": "vZ_LwlBM2eoJ"
      },
      "source": [
        "with a fraction of 0.1 we have a sample size of 18,807 entries"
      ]
    },
    {
      "cell_type": "markdown",
      "metadata": {
        "id": "oxrbfM5H1uyT"
      },
      "source": [
        "**checking for the distributions for samples**"
      ]
    },
    {
      "cell_type": "code",
      "metadata": {
        "colab": {
          "base_uri": "https://localhost:8080/",
          "height": 483
        },
        "id": "F3wNQf3q1nv9",
        "outputId": "e441a2e1-41e1-4c09-df0f-9e22ad9a051b"
      },
      "source": [
        "apartment_sample=strat_output[strat_output['type']=='apartment']\n",
        "from scipy.stats import norm\n",
        "# Fit a normal distribution to the data:\n",
        "mu, std = norm.fit(apartment_sample['price'])\n",
        "\n",
        "# Plot the histogram.\n",
        "plt.hist(apartment_sample['price'], bins=25, density=True, alpha=0.6,)"
      ],
      "execution_count": null,
      "outputs": [
        {
          "output_type": "execute_result",
          "data": {
            "text/plain": [
              "(array([6.92697698e-05, 1.52628306e-05, 1.58498626e-05, 1.99590862e-05,\n",
              "        9.15769838e-05, 3.30498987e-04, 7.19114136e-04, 1.08013878e-03,\n",
              "        1.17876015e-03, 1.24450773e-03, 9.56862075e-04, 7.54923085e-04,\n",
              "        7.16178976e-04, 6.36342631e-04, 5.13065922e-04, 4.60820079e-04,\n",
              "        3.59263552e-04, 2.50662642e-04, 2.34812779e-04, 1.63194881e-04,\n",
              "        1.45583923e-04, 9.86213672e-05, 8.39455685e-05, 8.80547922e-05,\n",
              "        6.92697698e-05]),\n",
              " array([   0.  ,   97.12,  194.24,  291.36,  388.48,  485.6 ,  582.72,\n",
              "         679.84,  776.96,  874.08,  971.2 , 1068.32, 1165.44, 1262.56,\n",
              "        1359.68, 1456.8 , 1553.92, 1651.04, 1748.16, 1845.28, 1942.4 ,\n",
              "        2039.52, 2136.64, 2233.76, 2330.88, 2428.  ]),\n",
              " <a list of 25 Patch objects>)"
            ]
          },
          "metadata": {
            "tags": []
          },
          "execution_count": 350
        },
        {
          "output_type": "display_data",
          "data": {
            "image/png": "[encoded data removed]",
            "text/plain": [
              "<Figure size 432x288 with 1 Axes>"
            ]
          },
          "metadata": {
            "tags": [],
            "needs_background": "light"
          }
        }
      ]
    },
    {
      "cell_type": "code",
      "metadata": {
        "colab": {
          "base_uri": "https://localhost:8080/",
          "height": 465
        },
        "id": "of226O3q1nnY",
        "outputId": "da3def63-c7e1-4b7c-ce82-9733de11bbdd"
      },
      "source": [
        "house_sample=strat_output[strat_output['type']=='house']\n",
        "from scipy.stats import norm\n",
        "# Fit a normal distribution to the data:\n",
        "mu, std = norm.fit(house_sample['price'])\n",
        "\n",
        "# Plot the histogram.\n",
        "plt.hist(house_sample['price'], bins=25, density=True, alpha=0.6,)"
      ],
      "execution_count": null,
      "outputs": [
        {
          "output_type": "execute_result",
          "data": {
            "text/plain": [
              "(array([3.28860826e-05, 8.22152065e-06, 1.64430413e-05, 1.64430413e-05,\n",
              "        6.57721652e-05, 2.38424099e-04, 4.19297553e-04, 8.30373586e-04,\n",
              "        1.17567745e-03, 1.29900026e-03, 8.87924230e-04, 7.48158379e-04,\n",
              "        6.65943173e-04, 6.49500132e-04, 6.24835570e-04, 6.82386214e-04,\n",
              "        4.43962115e-04, 6.08392528e-04, 3.12417785e-04, 2.21981058e-04,\n",
              "        1.80873454e-04, 4.93291239e-05, 9.04367272e-05, 9.04367272e-05,\n",
              "        5.75506446e-05]),\n",
              " array([   0.,   96.,  192.,  288.,  384.,  480.,  576.,  672.,  768.,\n",
              "         864.,  960., 1056., 1152., 1248., 1344., 1440., 1536., 1632.,\n",
              "        1728., 1824., 1920., 2016., 2112., 2208., 2304., 2400.]),\n",
              " <a list of 25 Patch objects>)"
            ]
          },
          "metadata": {
            "tags": []
          },
          "execution_count": 351
        },
        {
          "output_type": "display_data",
          "data": {
            "image/png": "[encoded data removed]",
            "text/plain": [
              "<Figure size 432x288 with 1 Axes>"
            ]
          },
          "metadata": {
            "tags": [],
            "needs_background": "light"
          }
        }
      ]
    },
    {
      "cell_type": "markdown",
      "metadata": {
        "id": "Ra72pEpFw08Q"
      },
      "source": [
        "# 8.0 Hypothesis Testing"
      ]
    },
    {
      "cell_type": "markdown",
      "metadata": {
        "id": "3HuOzwgm2j9s"
      },
      "source": [
        "## a. Stating the hypothesis"
      ]
    },
    {
      "cell_type": "markdown",
      "metadata": {
        "id": "Y9wXzJtuwB-y"
      },
      "source": [
        "From our analysis, the most popular type of house to live in an apartment followed by a house\n",
        "\n",
        "\n",
        "Ho: There is no significant difference in the average price of an apartment and a house \n",
        "\n",
        "H1:The average price of an apartment is significatnly lower than that of a house (claim)\n",
        "\n",
        "Ho:μ1-μ2=0\n",
        "\n",
        "vs.\n",
        "\n",
        "H1:μ1-μ2 < 0 (claim)\n",
        "\n",
        "where\n",
        "\n",
        " μ1 is the average price of an apartment and\n",
        "\n",
        "μ2 is the average price of a house \n",
        "\n",
        "* Our hypothesis will be a left tailed test\n"
      ]
    },
    {
      "cell_type": "markdown",
      "metadata": {
        "id": "rdJJkUm4BdIH"
      },
      "source": [
        "we decided to set the level of significance at alpha(α)=0.05"
      ]
    },
    {
      "cell_type": "markdown",
      "metadata": {
        "id": "g-Z26aiYXHQE"
      },
      "source": [
        "## b. Calculating the test statistic"
      ]
    },
    {
      "cell_type": "markdown",
      "metadata": {
        "id": "liFtBR6u7uob"
      },
      "source": [
        "sample means for the two samples\n"
      ]
    },
    {
      "cell_type": "code",
      "metadata": {
        "id": "VlM2f4Vhf_sr"
      },
      "source": [
        "mean_apartment=strat_output[strat_output['type']=='apartment']['price'].mean()"
      ],
      "execution_count": null,
      "outputs": []
    },
    {
      "cell_type": "code",
      "metadata": {
        "id": "CJ4kS3rIKjTX"
      },
      "source": [
        "mean_house=strat_output[strat_output['type']=='house']['price'].mean()"
      ],
      "execution_count": null,
      "outputs": []
    },
    {
      "cell_type": "markdown",
      "metadata": {
        "id": "NN76pL1AMU2E"
      },
      "source": [
        "population standard deviations for two samples"
      ]
    },
    {
      "cell_type": "code",
      "metadata": {
        "id": "-PL3dllDKuXR"
      },
      "source": [
        "std_apart=apart_house[apart_house['type']=='apartment']['price'].std()\n"
      ],
      "execution_count": null,
      "outputs": []
    },
    {
      "cell_type": "code",
      "metadata": {
        "id": "Z8FuIyxIK5_R"
      },
      "source": [
        "std_house=apart_house[apart_house['type']=='house']['price'].std()\n"
      ],
      "execution_count": null,
      "outputs": []
    },
    {
      "cell_type": "markdown",
      "metadata": {
        "id": "419hCQn1GE5E"
      },
      "source": [
        "population variances"
      ]
    },
    {
      "cell_type": "code",
      "metadata": {
        "id": "1yAEUT-NfKdJ"
      },
      "source": [
        "var_apart=std_apart**2\n",
        "var_house=std_house**2"
      ],
      "execution_count": null,
      "outputs": []
    },
    {
      "cell_type": "markdown",
      "metadata": {
        "id": "aqfToX_tdQbZ"
      },
      "source": [
        "sample sizes"
      ]
    },
    {
      "cell_type": "code",
      "metadata": {
        "colab": {
          "base_uri": "https://localhost:8080/"
        },
        "id": "7uYSEUdCdSgC",
        "outputId": "567d0c0f-76fb-4dbb-801d-c3ce3f6ab799"
      },
      "source": [
        "n_apartment=strat_output[strat_output['type']=='apartment']['price'].shape[0]\n",
        "n_apartment"
      ],
      "execution_count": null,
      "outputs": [
        {
          "output_type": "execute_result",
          "data": {
            "text/plain": [
              "17540"
            ]
          },
          "metadata": {
            "tags": []
          },
          "execution_count": 357
        }
      ]
    },
    {
      "cell_type": "code",
      "metadata": {
        "colab": {
          "base_uri": "https://localhost:8080/"
        },
        "id": "-Y1pyohndYiu",
        "outputId": "a85859bb-1f65-4f0e-a671-492e0464f903"
      },
      "source": [
        "n_house=strat_output[strat_output['type']=='house']['price'].shape[0]\n",
        "n_house"
      ],
      "execution_count": null,
      "outputs": [
        {
          "output_type": "execute_result",
          "data": {
            "text/plain": [
              "1267"
            ]
          },
          "metadata": {
            "tags": []
          },
          "execution_count": 358
        }
      ]
    },
    {
      "cell_type": "markdown",
      "metadata": {
        "id": "BQQsB5GvGXTK"
      },
      "source": [
        "calculating the actual z-score"
      ]
    },
    {
      "cell_type": "code",
      "metadata": {
        "id": "4XdWmq6CMhFX"
      },
      "source": [
        "zscore=((mean_apartment-mean_house))/(((var_apart/n_apartment)+(var_house/n_house))**(1/2))"
      ],
      "execution_count": null,
      "outputs": []
    },
    {
      "cell_type": "code",
      "metadata": {
        "colab": {
          "base_uri": "https://localhost:8080/"
        },
        "id": "KWMH1rYSfGFT",
        "outputId": "140d9c66-db2b-4cf4-e13c-d572a7f078bb"
      },
      "source": [
        "zscore"
      ],
      "execution_count": null,
      "outputs": [
        {
          "output_type": "execute_result",
          "data": {
            "text/plain": [
              "-5.190184913226682"
            ]
          },
          "metadata": {
            "tags": []
          },
          "execution_count": 360
        }
      ]
    },
    {
      "cell_type": "markdown",
      "metadata": {
        "id": "FqTw54rr9VZV"
      },
      "source": [
        "**Using the p-value approach**"
      ]
    },
    {
      "cell_type": "code",
      "metadata": {
        "colab": {
          "base_uri": "https://localhost:8080/"
        },
        "id": "uP-NgFk_9Uvv",
        "outputId": "f84c6f5f-e85e-4761-86a5-1a1f99bdf28a"
      },
      "source": [
        "import scipy.stats\n",
        "\n",
        "#find p-value for one-tailed test\n",
        "scipy.stats.norm.sf(abs(zscore))\n"
      ],
      "execution_count": null,
      "outputs": [
        {
          "output_type": "execute_result",
          "data": {
            "text/plain": [
              "1.0504267170210309e-07"
            ]
          },
          "metadata": {
            "tags": []
          },
          "execution_count": 361
        }
      ]
    },
    {
      "cell_type": "markdown",
      "metadata": {
        "id": "8D7lCtDlXPh6"
      },
      "source": [
        "## c.Decision"
      ]
    },
    {
      "cell_type": "markdown",
      "metadata": {
        "id": "AEis4U0kB07Z"
      },
      "source": [
        "Since the pvalue< α  ie. 1.050e-07 < 0.05, then we reject the null hypothesis that there is no significant difference in the average price of an apartment and a house"
      ]
    },
    {
      "cell_type": "markdown",
      "metadata": {
        "id": "STlRuzl8XXt7"
      },
      "source": [
        "## d. Conclusion"
      ]
    },
    {
      "cell_type": "markdown",
      "metadata": {
        "id": "vE34BmNiCzrN"
      },
      "source": [
        "At the α = 0.05 level of significance, there is enough evidence to conclude\n",
        "that the average price of an apartment is significatnly lower than that of a house."
      ]
    }
  ]
}